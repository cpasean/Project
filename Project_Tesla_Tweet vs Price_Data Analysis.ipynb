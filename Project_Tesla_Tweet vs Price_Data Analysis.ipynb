{
 "cells": [
  {
   "cell_type": "markdown",
   "id": "a72dc809",
   "metadata": {},
   "source": [
    "## Investigation Overview\n",
    "\n",
    "For stock investors, especially day-traders, the rate of change in stock prices is an important factor for short-term planning. Even if the degree of change is small, it can be usefully reflected in the stock price prediction model if the variable has statistically convincing evidence."
   ]
  },
  {
   "cell_type": "markdown",
   "id": "9f487278",
   "metadata": {},
   "source": [
    "### Data gathering\n",
    "\n",
    "We will gather two separate datasets, one for tweets and the other one for the stock price, and then combine those two. The period ranges between November, 2011, and March, 2021. First, we will statistically analyze the completed dataset to select reliable variables and then work on data visualization for exploration. Finally, we will plot the useful variables per different points of view. \n",
    "\n",
    "(Limitation) our major question, \"Do ELON's tweets affect Tesla's stock price?\" may have several different methods to get the most trustful answer depending on each perspective."
   ]
  },
  {
   "cell_type": "markdown",
   "id": "a583e1cf",
   "metadata": {},
   "source": [
    " #### Tweet"
   ]
  },
  {
   "cell_type": "markdown",
   "id": "87042d25",
   "metadata": {},
   "source": [
    "We will use open source from Kaggle (https://www.kaggle.com/ayhmrba/elon-musk-tweets-2010-2021) which contain the entire tweets since 2010."
   ]
  },
  {
   "cell_type": "code",
   "execution_count": 1,
   "id": "d181702b",
   "metadata": {},
   "outputs": [],
   "source": [
    "# import requried libraries\n",
    "\n",
    "import pandas as pd\n",
    "import yfinance as yf\n",
    "import numpy as np\n",
    "import matplotlib.pyplot as plt\n",
    "import seaborn as sb\n",
    "import requests\n",
    "import io\n",
    "import datetime\n",
    "\n",
    "%matplotlib inline  \n",
    "# To get the same result from different setup"
   ]
  },
  {
   "cell_type": "code",
   "execution_count": 2,
   "id": "504d28ea",
   "metadata": {},
   "outputs": [
    {
     "name": "stdout",
     "output_type": "stream",
     "text": [
      "2010 2011\n",
      "2011 2012\n",
      "2012 2013\n",
      "2013 2014\n",
      "2014 2015\n",
      "2015 2016\n",
      "2016 2017\n",
      "2017 2018\n",
      "2018 2019\n",
      "2019 2020\n",
      "2020 2021\n"
     ]
    }
   ],
   "source": [
    "# download csv files from Kaggle and store those in the same folder where this file is located.\n",
    "# create a new folder inside of the folder\n",
    "\n",
    "for year in range(2010, 2022, 1):\n",
    "    nexty = year+1\n",
    "    if year == 2021:\n",
    "        pass\n",
    "    else:\n",
    "        print(year, nexty)\n",
    "        df = pd.concat(map(pd.read_csv, ['./tweet_elon/%d.csv' %year, './tweet_elon/%d.csv' %nexty]), ignore_index=True)"
   ]
  },
  {
   "cell_type": "code",
   "execution_count": 3,
   "id": "d462ec4a",
   "metadata": {},
   "outputs": [],
   "source": [
    "# df.to_csv('tweets.csv')"
   ]
  },
  {
   "cell_type": "code",
   "execution_count": 4,
   "id": "6b895745",
   "metadata": {
    "scrolled": true
   },
   "outputs": [
    {
     "data": {
      "text/html": [
       "<div>\n",
       "<style scoped>\n",
       "    .dataframe tbody tr th:only-of-type {\n",
       "        vertical-align: middle;\n",
       "    }\n",
       "\n",
       "    .dataframe tbody tr th {\n",
       "        vertical-align: top;\n",
       "    }\n",
       "\n",
       "    .dataframe thead th {\n",
       "        text-align: right;\n",
       "    }\n",
       "</style>\n",
       "<table border=\"1\" class=\"dataframe\">\n",
       "  <thead>\n",
       "    <tr style=\"text-align: right;\">\n",
       "      <th></th>\n",
       "      <th>Unnamed: 0</th>\n",
       "      <th>id</th>\n",
       "      <th>conversation_id</th>\n",
       "      <th>created_at</th>\n",
       "      <th>date</th>\n",
       "      <th>timezone</th>\n",
       "      <th>place</th>\n",
       "      <th>tweet</th>\n",
       "      <th>language</th>\n",
       "      <th>hashtags</th>\n",
       "      <th>...</th>\n",
       "      <th>geo</th>\n",
       "      <th>source</th>\n",
       "      <th>user_rt_id</th>\n",
       "      <th>user_rt</th>\n",
       "      <th>retweet_id</th>\n",
       "      <th>reply_to</th>\n",
       "      <th>retweet_date</th>\n",
       "      <th>translate</th>\n",
       "      <th>trans_src</th>\n",
       "      <th>trans_dest</th>\n",
       "    </tr>\n",
       "  </thead>\n",
       "  <tbody>\n",
       "    <tr>\n",
       "      <th>0</th>\n",
       "      <td>0</td>\n",
       "      <td>1343644462036086785</td>\n",
       "      <td>1343320495127633920</td>\n",
       "      <td>1.609185e+12</td>\n",
       "      <td>2020-12-28 19:46:18</td>\n",
       "      <td>0</td>\n",
       "      <td>NaN</td>\n",
       "      <td>Entertainment will be critical when cars drive...</td>\n",
       "      <td>en</td>\n",
       "      <td>[]</td>\n",
       "      <td>...</td>\n",
       "      <td>NaN</td>\n",
       "      <td>NaN</td>\n",
       "      <td>NaN</td>\n",
       "      <td>NaN</td>\n",
       "      <td>NaN</td>\n",
       "      <td>[]</td>\n",
       "      <td>NaN</td>\n",
       "      <td>NaN</td>\n",
       "      <td>NaN</td>\n",
       "      <td>NaN</td>\n",
       "    </tr>\n",
       "    <tr>\n",
       "      <th>1</th>\n",
       "      <td>1</td>\n",
       "      <td>1343619610617077760</td>\n",
       "      <td>1343386617294295040</td>\n",
       "      <td>1.609179e+12</td>\n",
       "      <td>2020-12-28 18:07:33</td>\n",
       "      <td>0</td>\n",
       "      <td>NaN</td>\n",
       "      <td>@kimpaquette Just meeting with Larry Ellison t...</td>\n",
       "      <td>en</td>\n",
       "      <td>[]</td>\n",
       "      <td>...</td>\n",
       "      <td>NaN</td>\n",
       "      <td>NaN</td>\n",
       "      <td>NaN</td>\n",
       "      <td>NaN</td>\n",
       "      <td>NaN</td>\n",
       "      <td>[{'screen_name': 'kimpaquette', 'name': 'Kim P...</td>\n",
       "      <td>NaN</td>\n",
       "      <td>NaN</td>\n",
       "      <td>NaN</td>\n",
       "      <td>NaN</td>\n",
       "    </tr>\n",
       "    <tr>\n",
       "      <th>2</th>\n",
       "      <td>2</td>\n",
       "      <td>1343608616960491521</td>\n",
       "      <td>1343576442722893825</td>\n",
       "      <td>1.609176e+12</td>\n",
       "      <td>2020-12-28 17:23:51</td>\n",
       "      <td>0</td>\n",
       "      <td>NaN</td>\n",
       "      <td>@richierichhhhh_ Absolutely</td>\n",
       "      <td>en</td>\n",
       "      <td>[]</td>\n",
       "      <td>...</td>\n",
       "      <td>NaN</td>\n",
       "      <td>NaN</td>\n",
       "      <td>NaN</td>\n",
       "      <td>NaN</td>\n",
       "      <td>NaN</td>\n",
       "      <td>[{'screen_name': 'richierichhhhh_', 'name': 'R...</td>\n",
       "      <td>NaN</td>\n",
       "      <td>NaN</td>\n",
       "      <td>NaN</td>\n",
       "      <td>NaN</td>\n",
       "    </tr>\n",
       "    <tr>\n",
       "      <th>3</th>\n",
       "      <td>3</td>\n",
       "      <td>1343608530998153222</td>\n",
       "      <td>1343320495127633920</td>\n",
       "      <td>1.609176e+12</td>\n",
       "      <td>2020-12-28 17:23:31</td>\n",
       "      <td>0</td>\n",
       "      <td>NaN</td>\n",
       "      <td>What should Tesla do with in-car gaming in an ...</td>\n",
       "      <td>en</td>\n",
       "      <td>[]</td>\n",
       "      <td>...</td>\n",
       "      <td>NaN</td>\n",
       "      <td>NaN</td>\n",
       "      <td>NaN</td>\n",
       "      <td>NaN</td>\n",
       "      <td>NaN</td>\n",
       "      <td>[]</td>\n",
       "      <td>NaN</td>\n",
       "      <td>NaN</td>\n",
       "      <td>NaN</td>\n",
       "      <td>NaN</td>\n",
       "    </tr>\n",
       "    <tr>\n",
       "      <th>4</th>\n",
       "      <td>4</td>\n",
       "      <td>1343431408052662273</td>\n",
       "      <td>1343043963096326147</td>\n",
       "      <td>1.609134e+12</td>\n",
       "      <td>2020-12-28 05:39:42</td>\n",
       "      <td>0</td>\n",
       "      <td>NaN</td>\n",
       "      <td>@PPathole @WSJ Absolutely</td>\n",
       "      <td>en</td>\n",
       "      <td>[]</td>\n",
       "      <td>...</td>\n",
       "      <td>NaN</td>\n",
       "      <td>NaN</td>\n",
       "      <td>NaN</td>\n",
       "      <td>NaN</td>\n",
       "      <td>NaN</td>\n",
       "      <td>[{'screen_name': 'PPathole', 'name': 'Pranay P...</td>\n",
       "      <td>NaN</td>\n",
       "      <td>NaN</td>\n",
       "      <td>NaN</td>\n",
       "      <td>NaN</td>\n",
       "    </tr>\n",
       "  </tbody>\n",
       "</table>\n",
       "<p>5 rows × 39 columns</p>\n",
       "</div>"
      ],
      "text/plain": [
       "   Unnamed: 0                   id      conversation_id    created_at  \\\n",
       "0           0  1343644462036086785  1343320495127633920  1.609185e+12   \n",
       "1           1  1343619610617077760  1343386617294295040  1.609179e+12   \n",
       "2           2  1343608616960491521  1343576442722893825  1.609176e+12   \n",
       "3           3  1343608530998153222  1343320495127633920  1.609176e+12   \n",
       "4           4  1343431408052662273  1343043963096326147  1.609134e+12   \n",
       "\n",
       "                  date  timezone  place  \\\n",
       "0  2020-12-28 19:46:18         0    NaN   \n",
       "1  2020-12-28 18:07:33         0    NaN   \n",
       "2  2020-12-28 17:23:51         0    NaN   \n",
       "3  2020-12-28 17:23:31         0    NaN   \n",
       "4  2020-12-28 05:39:42         0    NaN   \n",
       "\n",
       "                                               tweet language hashtags  ...  \\\n",
       "0  Entertainment will be critical when cars drive...       en       []  ...   \n",
       "1  @kimpaquette Just meeting with Larry Ellison t...       en       []  ...   \n",
       "2                        @richierichhhhh_ Absolutely       en       []  ...   \n",
       "3  What should Tesla do with in-car gaming in an ...       en       []  ...   \n",
       "4                          @PPathole @WSJ Absolutely       en       []  ...   \n",
       "\n",
       "  geo  source  user_rt_id user_rt retweet_id  \\\n",
       "0 NaN     NaN         NaN     NaN        NaN   \n",
       "1 NaN     NaN         NaN     NaN        NaN   \n",
       "2 NaN     NaN         NaN     NaN        NaN   \n",
       "3 NaN     NaN         NaN     NaN        NaN   \n",
       "4 NaN     NaN         NaN     NaN        NaN   \n",
       "\n",
       "                                            reply_to  retweet_date translate  \\\n",
       "0                                                 []           NaN       NaN   \n",
       "1  [{'screen_name': 'kimpaquette', 'name': 'Kim P...           NaN       NaN   \n",
       "2  [{'screen_name': 'richierichhhhh_', 'name': 'R...           NaN       NaN   \n",
       "3                                                 []           NaN       NaN   \n",
       "4  [{'screen_name': 'PPathole', 'name': 'Pranay P...           NaN       NaN   \n",
       "\n",
       "  trans_src trans_dest  \n",
       "0       NaN        NaN  \n",
       "1       NaN        NaN  \n",
       "2       NaN        NaN  \n",
       "3       NaN        NaN  \n",
       "4       NaN        NaN  \n",
       "\n",
       "[5 rows x 39 columns]"
      ]
     },
     "execution_count": 4,
     "metadata": {},
     "output_type": "execute_result"
    }
   ],
   "source": [
    "df.head()"
   ]
  },
  {
   "cell_type": "code",
   "execution_count": 5,
   "id": "d75a7d84",
   "metadata": {},
   "outputs": [
    {
     "data": {
      "text/html": [
       "<div>\n",
       "<style scoped>\n",
       "    .dataframe tbody tr th:only-of-type {\n",
       "        vertical-align: middle;\n",
       "    }\n",
       "\n",
       "    .dataframe tbody tr th {\n",
       "        vertical-align: top;\n",
       "    }\n",
       "\n",
       "    .dataframe thead th {\n",
       "        text-align: right;\n",
       "    }\n",
       "</style>\n",
       "<table border=\"1\" class=\"dataframe\">\n",
       "  <thead>\n",
       "    <tr style=\"text-align: right;\">\n",
       "      <th></th>\n",
       "      <th>date</th>\n",
       "      <th>tweet</th>\n",
       "    </tr>\n",
       "  </thead>\n",
       "  <tbody>\n",
       "    <tr>\n",
       "      <th>0</th>\n",
       "      <td>2020-12-28 19:46:18</td>\n",
       "      <td>Entertainment will be critical when cars drive...</td>\n",
       "    </tr>\n",
       "    <tr>\n",
       "      <th>1</th>\n",
       "      <td>2020-12-28 18:07:33</td>\n",
       "      <td>@kimpaquette Just meeting with Larry Ellison t...</td>\n",
       "    </tr>\n",
       "    <tr>\n",
       "      <th>2</th>\n",
       "      <td>2020-12-28 17:23:51</td>\n",
       "      <td>@richierichhhhh_ Absolutely</td>\n",
       "    </tr>\n",
       "    <tr>\n",
       "      <th>3</th>\n",
       "      <td>2020-12-28 17:23:31</td>\n",
       "      <td>What should Tesla do with in-car gaming in an ...</td>\n",
       "    </tr>\n",
       "    <tr>\n",
       "      <th>4</th>\n",
       "      <td>2020-12-28 05:39:42</td>\n",
       "      <td>@PPathole @WSJ Absolutely</td>\n",
       "    </tr>\n",
       "  </tbody>\n",
       "</table>\n",
       "</div>"
      ],
      "text/plain": [
       "                  date                                              tweet\n",
       "0  2020-12-28 19:46:18  Entertainment will be critical when cars drive...\n",
       "1  2020-12-28 18:07:33  @kimpaquette Just meeting with Larry Ellison t...\n",
       "2  2020-12-28 17:23:51                        @richierichhhhh_ Absolutely\n",
       "3  2020-12-28 17:23:31  What should Tesla do with in-car gaming in an ...\n",
       "4  2020-12-28 05:39:42                          @PPathole @WSJ Absolutely"
      ]
     },
     "execution_count": 5,
     "metadata": {},
     "output_type": "execute_result"
    }
   ],
   "source": [
    "# only get required columns\n",
    "\n",
    "dft = df[['date', 'tweet']]\n",
    "dft.head()"
   ]
  },
  {
   "cell_type": "code",
   "execution_count": 6,
   "id": "ece15b1a",
   "metadata": {},
   "outputs": [
    {
     "data": {
      "text/plain": [
       "(24056, 2)"
      ]
     },
     "execution_count": 6,
     "metadata": {},
     "output_type": "execute_result"
    }
   ],
   "source": [
    "dft.shape"
   ]
  },
  {
   "cell_type": "code",
   "execution_count": 7,
   "id": "e49b961c",
   "metadata": {},
   "outputs": [
    {
     "name": "stderr",
     "output_type": "stream",
     "text": [
      "C:\\Users\\aicpa\\AppData\\Local\\Temp/ipykernel_25640/1918425870.py:3: SettingWithCopyWarning: \n",
      "A value is trying to be set on a copy of a slice from a DataFrame.\n",
      "Try using .loc[row_indexer,col_indexer] = value instead\n",
      "\n",
      "See the caveats in the documentation: https://pandas.pydata.org/pandas-docs/stable/user_guide/indexing.html#returning-a-view-versus-a-copy\n",
      "  dft['date'] = pd.to_datetime(dft['date']).dt.date\n"
     ]
    },
    {
     "data": {
      "text/html": [
       "<div>\n",
       "<style scoped>\n",
       "    .dataframe tbody tr th:only-of-type {\n",
       "        vertical-align: middle;\n",
       "    }\n",
       "\n",
       "    .dataframe tbody tr th {\n",
       "        vertical-align: top;\n",
       "    }\n",
       "\n",
       "    .dataframe thead th {\n",
       "        text-align: right;\n",
       "    }\n",
       "</style>\n",
       "<table border=\"1\" class=\"dataframe\">\n",
       "  <thead>\n",
       "    <tr style=\"text-align: right;\">\n",
       "      <th></th>\n",
       "      <th>date</th>\n",
       "      <th>tweet</th>\n",
       "    </tr>\n",
       "  </thead>\n",
       "  <tbody>\n",
       "    <tr>\n",
       "      <th>0</th>\n",
       "      <td>2020-12-28</td>\n",
       "      <td>Entertainment will be critical when cars drive...</td>\n",
       "    </tr>\n",
       "    <tr>\n",
       "      <th>1</th>\n",
       "      <td>2020-12-28</td>\n",
       "      <td>@kimpaquette Just meeting with Larry Ellison t...</td>\n",
       "    </tr>\n",
       "    <tr>\n",
       "      <th>2</th>\n",
       "      <td>2020-12-28</td>\n",
       "      <td>@richierichhhhh_ Absolutely</td>\n",
       "    </tr>\n",
       "    <tr>\n",
       "      <th>3</th>\n",
       "      <td>2020-12-28</td>\n",
       "      <td>What should Tesla do with in-car gaming in an ...</td>\n",
       "    </tr>\n",
       "    <tr>\n",
       "      <th>4</th>\n",
       "      <td>2020-12-28</td>\n",
       "      <td>@PPathole @WSJ Absolutely</td>\n",
       "    </tr>\n",
       "  </tbody>\n",
       "</table>\n",
       "</div>"
      ],
      "text/plain": [
       "         date                                              tweet\n",
       "0  2020-12-28  Entertainment will be critical when cars drive...\n",
       "1  2020-12-28  @kimpaquette Just meeting with Larry Ellison t...\n",
       "2  2020-12-28                        @richierichhhhh_ Absolutely\n",
       "3  2020-12-28  What should Tesla do with in-car gaming in an ...\n",
       "4  2020-12-28                          @PPathole @WSJ Absolutely"
      ]
     },
     "execution_count": 7,
     "metadata": {},
     "output_type": "execute_result"
    }
   ],
   "source": [
    "# adjust the date as yyyy-mm-dd\n",
    "\n",
    "dft['date'] = pd.to_datetime(dft['date']).dt.date\n",
    "dft.head()"
   ]
  },
  {
   "cell_type": "code",
   "execution_count": 8,
   "id": "4eced24e",
   "metadata": {},
   "outputs": [
    {
     "data": {
      "text/plain": [
       "2020-04-16    112\n",
       "2018-06-17     98\n",
       "2017-03-24     98\n",
       "2019-12-30     94\n",
       "2020-05-15     88\n",
       "             ... \n",
       "2021-01-05      1\n",
       "2021-02-02      1\n",
       "2021-01-03      1\n",
       "2021-01-01      1\n",
       "2021-03-16      1\n",
       "Name: date, Length: 2005, dtype: int64"
      ]
     },
     "execution_count": 8,
     "metadata": {},
     "output_type": "execute_result"
    }
   ],
   "source": [
    "# check the max. number of tweets per a day\n",
    "\n",
    "dft.date.value_counts()"
   ]
  },
  {
   "cell_type": "markdown",
   "id": "57be2b5d",
   "metadata": {},
   "source": [
    "We want to get two separate dataframe, one for the entire tweets and the other for tweets **excluding retweets**."
   ]
  },
  {
   "cell_type": "code",
   "execution_count": 9,
   "id": "3ed18641",
   "metadata": {},
   "outputs": [
    {
     "data": {
      "text/plain": [
       "Int64Index([    1,     2,     4,     5,     7,     8,     9,    10,    11,\n",
       "               12,\n",
       "            ...\n",
       "            23971, 23975, 23988, 24004, 24010, 24011, 24026, 24027, 24028,\n",
       "            24029],\n",
       "           dtype='int64', length=16984)"
      ]
     },
     "execution_count": 9,
     "metadata": {},
     "output_type": "execute_result"
    }
   ],
   "source": [
    "# Check if a tweet starts with '@', and then get the index number for True\n",
    "\n",
    "rev = pd.DataFrame(dft.tweet.str.startswith('@'))\n",
    "rev = rev.query('tweet == True').index\n",
    "rev"
   ]
  },
  {
   "cell_type": "code",
   "execution_count": 10,
   "id": "620404c7",
   "metadata": {},
   "outputs": [
    {
     "data": {
      "text/html": [
       "<div>\n",
       "<style scoped>\n",
       "    .dataframe tbody tr th:only-of-type {\n",
       "        vertical-align: middle;\n",
       "    }\n",
       "\n",
       "    .dataframe tbody tr th {\n",
       "        vertical-align: top;\n",
       "    }\n",
       "\n",
       "    .dataframe thead th {\n",
       "        text-align: right;\n",
       "    }\n",
       "</style>\n",
       "<table border=\"1\" class=\"dataframe\">\n",
       "  <thead>\n",
       "    <tr style=\"text-align: right;\">\n",
       "      <th></th>\n",
       "      <th>date</th>\n",
       "      <th>tweet</th>\n",
       "    </tr>\n",
       "  </thead>\n",
       "  <tbody>\n",
       "    <tr>\n",
       "      <th>0</th>\n",
       "      <td>2020-12-28</td>\n",
       "      <td>Entertainment will be critical when cars drive...</td>\n",
       "    </tr>\n",
       "    <tr>\n",
       "      <th>3</th>\n",
       "      <td>2020-12-28</td>\n",
       "      <td>What should Tesla do with in-car gaming in an ...</td>\n",
       "    </tr>\n",
       "    <tr>\n",
       "      <th>6</th>\n",
       "      <td>2020-12-27</td>\n",
       "      <td>Try playing Polytopia in your Tesla! Great gam...</td>\n",
       "    </tr>\n",
       "    <tr>\n",
       "      <th>34</th>\n",
       "      <td>2020-12-25</td>\n",
       "      <td>Change your horn sound to 🐐, 🐍🎷, 💨 or holiday ...</td>\n",
       "    </tr>\n",
       "    <tr>\n",
       "      <th>35</th>\n",
       "      <td>2020-12-25</td>\n",
       "      <td>Merry Christmas &amp;amp; happy holidays! 🎁  https...</td>\n",
       "    </tr>\n",
       "  </tbody>\n",
       "</table>\n",
       "</div>"
      ],
      "text/plain": [
       "          date                                              tweet\n",
       "0   2020-12-28  Entertainment will be critical when cars drive...\n",
       "3   2020-12-28  What should Tesla do with in-car gaming in an ...\n",
       "6   2020-12-27  Try playing Polytopia in your Tesla! Great gam...\n",
       "34  2020-12-25  Change your horn sound to 🐐, 🐍🎷, 💨 or holiday ...\n",
       "35  2020-12-25  Merry Christmas &amp; happy holidays! 🎁  https..."
      ]
     },
     "execution_count": 10,
     "metadata": {},
     "output_type": "execute_result"
    }
   ],
   "source": [
    "# Remove the indexes\n",
    "\n",
    "dft1 = dft.drop(index = rev)\n",
    "dft1.head()  # Tweets excluding retweets"
   ]
  },
  {
   "cell_type": "markdown",
   "id": "e5f780db",
   "metadata": {},
   "source": [
    "We got tweets excluding retweets here. "
   ]
  },
  {
   "cell_type": "code",
   "execution_count": 11,
   "id": "07cc632d",
   "metadata": {},
   "outputs": [
    {
     "data": {
      "text/plain": [
       "(24056, 2)"
      ]
     },
     "execution_count": 11,
     "metadata": {},
     "output_type": "execute_result"
    }
   ],
   "source": [
    "dft.shape"
   ]
  },
  {
   "cell_type": "code",
   "execution_count": 12,
   "id": "f6587314",
   "metadata": {},
   "outputs": [
    {
     "data": {
      "text/plain": [
       "(7072, 2)"
      ]
     },
     "execution_count": 12,
     "metadata": {},
     "output_type": "execute_result"
    }
   ],
   "source": [
    "dft1.shape"
   ]
  },
  {
   "cell_type": "markdown",
   "id": "e69d65aa",
   "metadata": {},
   "source": [
    "- dft = Tweet + Retweet\n",
    "\n",
    "\n",
    "- dft1 = Tweet "
   ]
  },
  {
   "cell_type": "code",
   "execution_count": 13,
   "id": "bd098356",
   "metadata": {},
   "outputs": [],
   "source": [
    "# group by date to get the number of tweets per a day. \n",
    "# Compare the output with the previous cell; dft\n",
    "\n",
    "tcount_rt = dft.groupby('date').count()\n",
    "tcount_t = dft1.groupby('date').count()\n",
    "tcount_rt.reset_index(inplace = True)\n",
    "tcount_t.reset_index(inplace = True)"
   ]
  },
  {
   "cell_type": "code",
   "execution_count": 14,
   "id": "f8203a22",
   "metadata": {
    "scrolled": true
   },
   "outputs": [
    {
     "data": {
      "text/plain": [
       "(            date  tweet\n",
       " 2000  2021-03-18      7\n",
       " 2001  2021-03-19     11\n",
       " 2002  2021-03-20      6\n",
       " 2003  2021-03-21     11\n",
       " 2004  2021-03-22      1,\n",
       "             date  tweet\n",
       " 1520  2021-03-16      1\n",
       " 1521  2021-03-17      1\n",
       " 1522  2021-03-18      3\n",
       " 1523  2021-03-19      1\n",
       " 1524  2021-03-20      1)"
      ]
     },
     "execution_count": 14,
     "metadata": {},
     "output_type": "execute_result"
    }
   ],
   "source": [
    "tcount_rt.tail(), tcount_t.tail()"
   ]
  },
  {
   "cell_type": "markdown",
   "id": "2fe09bfb",
   "metadata": {},
   "source": [
    "- tcount_rt = Tweet + Retweet\n",
    "\n",
    "\n",
    "- tcount_t = Tweet "
   ]
  },
  {
   "cell_type": "markdown",
   "id": "aa86d88d",
   "metadata": {},
   "source": [
    "#### Stock Price"
   ]
  },
  {
   "cell_type": "markdown",
   "id": "6b0a9fba",
   "metadata": {},
   "source": [
    "We will use a library from Yahoo finance https://towardsdatascience.com/downloading-historical-stock-prices-in-python-93f85f059c1f), which contains the entire Nasdaq stock record."
   ]
  },
  {
   "cell_type": "code",
   "execution_count": 15,
   "id": "c8020153",
   "metadata": {},
   "outputs": [
    {
     "data": {
      "text/html": [
       "<div>\n",
       "<style scoped>\n",
       "    .dataframe tbody tr th:only-of-type {\n",
       "        vertical-align: middle;\n",
       "    }\n",
       "\n",
       "    .dataframe tbody tr th {\n",
       "        vertical-align: top;\n",
       "    }\n",
       "\n",
       "    .dataframe thead th {\n",
       "        text-align: right;\n",
       "    }\n",
       "</style>\n",
       "<table border=\"1\" class=\"dataframe\">\n",
       "  <thead>\n",
       "    <tr style=\"text-align: right;\">\n",
       "      <th></th>\n",
       "      <th>Symbol</th>\n",
       "      <th>Company Name</th>\n",
       "      <th>Security Name</th>\n",
       "      <th>Market Category</th>\n",
       "      <th>Test Issue</th>\n",
       "      <th>Financial Status</th>\n",
       "      <th>Round Lot Size</th>\n",
       "    </tr>\n",
       "  </thead>\n",
       "  <tbody>\n",
       "    <tr>\n",
       "      <th>0</th>\n",
       "      <td>AAIT</td>\n",
       "      <td>iShares MSCI All Country Asia Information Tech...</td>\n",
       "      <td>iShares MSCI All Country Asia Information Tech...</td>\n",
       "      <td>G</td>\n",
       "      <td>N</td>\n",
       "      <td>N</td>\n",
       "      <td>100.0</td>\n",
       "    </tr>\n",
       "    <tr>\n",
       "      <th>1</th>\n",
       "      <td>AAL</td>\n",
       "      <td>American Airlines Group, Inc.</td>\n",
       "      <td>American Airlines Group, Inc. - Common Stock</td>\n",
       "      <td>Q</td>\n",
       "      <td>N</td>\n",
       "      <td>N</td>\n",
       "      <td>100.0</td>\n",
       "    </tr>\n",
       "    <tr>\n",
       "      <th>2</th>\n",
       "      <td>AAME</td>\n",
       "      <td>Atlantic American Corporation</td>\n",
       "      <td>Atlantic American Corporation - Common Stock</td>\n",
       "      <td>G</td>\n",
       "      <td>N</td>\n",
       "      <td>N</td>\n",
       "      <td>100.0</td>\n",
       "    </tr>\n",
       "    <tr>\n",
       "      <th>3</th>\n",
       "      <td>AAOI</td>\n",
       "      <td>Applied Optoelectronics, Inc.</td>\n",
       "      <td>Applied Optoelectronics, Inc. - Common Stock</td>\n",
       "      <td>G</td>\n",
       "      <td>N</td>\n",
       "      <td>N</td>\n",
       "      <td>100.0</td>\n",
       "    </tr>\n",
       "    <tr>\n",
       "      <th>4</th>\n",
       "      <td>AAON</td>\n",
       "      <td>AAON, Inc.</td>\n",
       "      <td>AAON, Inc. - Common Stock</td>\n",
       "      <td>Q</td>\n",
       "      <td>N</td>\n",
       "      <td>N</td>\n",
       "      <td>100.0</td>\n",
       "    </tr>\n",
       "  </tbody>\n",
       "</table>\n",
       "</div>"
      ],
      "text/plain": [
       "  Symbol                                       Company Name  \\\n",
       "0   AAIT  iShares MSCI All Country Asia Information Tech...   \n",
       "1    AAL                      American Airlines Group, Inc.   \n",
       "2   AAME                      Atlantic American Corporation   \n",
       "3   AAOI                      Applied Optoelectronics, Inc.   \n",
       "4   AAON                                         AAON, Inc.   \n",
       "\n",
       "                                       Security Name Market Category  \\\n",
       "0  iShares MSCI All Country Asia Information Tech...               G   \n",
       "1       American Airlines Group, Inc. - Common Stock               Q   \n",
       "2       Atlantic American Corporation - Common Stock               G   \n",
       "3       Applied Optoelectronics, Inc. - Common Stock               G   \n",
       "4                          AAON, Inc. - Common Stock               Q   \n",
       "\n",
       "  Test Issue Financial Status  Round Lot Size  \n",
       "0          N                N           100.0  \n",
       "1          N                N           100.0  \n",
       "2          N                N           100.0  \n",
       "3          N                N           100.0  \n",
       "4          N                N           100.0  "
      ]
     },
     "execution_count": 15,
     "metadata": {},
     "output_type": "execute_result"
    }
   ],
   "source": [
    "url=\"https://pkgstore.datahub.io/core/nasdaq-listings/nasdaq-listed_csv/data/7665719fb51081ba0bd834fde71ce822/nasdaq-listed_csv.csv\"\n",
    "\n",
    "s = requests.get(url).content\n",
    "companies = pd.read_csv(io.StringIO(s.decode('utf-8')))\n",
    "companies.head()"
   ]
  },
  {
   "cell_type": "code",
   "execution_count": 16,
   "id": "e9bd6248",
   "metadata": {},
   "outputs": [],
   "source": [
    "# companies.to_csv('companies.csv')"
   ]
  },
  {
   "cell_type": "code",
   "execution_count": 17,
   "id": "9728e2d0",
   "metadata": {},
   "outputs": [],
   "source": [
    "Symbols = companies['Symbol'].tolist()"
   ]
  },
  {
   "cell_type": "code",
   "execution_count": 18,
   "id": "f222b934",
   "metadata": {},
   "outputs": [
    {
     "data": {
      "text/plain": [
       "True"
      ]
     },
     "execution_count": 18,
     "metadata": {},
     "output_type": "execute_result"
    }
   ],
   "source": [
    "'TSLA' in Symbols"
   ]
  },
  {
   "cell_type": "markdown",
   "id": "886c738b",
   "metadata": {},
   "source": [
    "Select stock price data until 3/22/2021 to match with tweet data"
   ]
  },
  {
   "cell_type": "code",
   "execution_count": 19,
   "id": "f619272f",
   "metadata": {},
   "outputs": [],
   "source": [
    "start = datetime.datetime(2010,1,1)\n",
    "end = datetime.datetime(2021,3,22)"
   ]
  },
  {
   "cell_type": "code",
   "execution_count": 20,
   "id": "c98b02d1",
   "metadata": {},
   "outputs": [],
   "source": [
    "# create empty dataframe to get only TSLA \n",
    "stock_final = pd.DataFrame()\n",
    "\n",
    "try:\n",
    "    # download the stock price \n",
    "    stock = []\n",
    "    stock = yf.download('TSLA',start=start, end=end, progress=False)\n",
    "\n",
    "    # append the individual stock prices \n",
    "    if len(stock) == 0:\n",
    "        None\n",
    "    else:\n",
    "        stock['Name']='TSLA'\n",
    "        stock_final = stock_final.append(stock,sort=False)\n",
    "except Exception:\n",
    "    None"
   ]
  },
  {
   "cell_type": "code",
   "execution_count": 21,
   "id": "d93c7657",
   "metadata": {},
   "outputs": [
    {
     "data": {
      "text/html": [
       "<div>\n",
       "<style scoped>\n",
       "    .dataframe tbody tr th:only-of-type {\n",
       "        vertical-align: middle;\n",
       "    }\n",
       "\n",
       "    .dataframe tbody tr th {\n",
       "        vertical-align: top;\n",
       "    }\n",
       "\n",
       "    .dataframe thead th {\n",
       "        text-align: right;\n",
       "    }\n",
       "</style>\n",
       "<table border=\"1\" class=\"dataframe\">\n",
       "  <thead>\n",
       "    <tr style=\"text-align: right;\">\n",
       "      <th></th>\n",
       "      <th>Open</th>\n",
       "      <th>High</th>\n",
       "      <th>Low</th>\n",
       "      <th>Close</th>\n",
       "      <th>Adj Close</th>\n",
       "      <th>Volume</th>\n",
       "      <th>Name</th>\n",
       "    </tr>\n",
       "    <tr>\n",
       "      <th>Date</th>\n",
       "      <th></th>\n",
       "      <th></th>\n",
       "      <th></th>\n",
       "      <th></th>\n",
       "      <th></th>\n",
       "      <th></th>\n",
       "      <th></th>\n",
       "    </tr>\n",
       "  </thead>\n",
       "  <tbody>\n",
       "    <tr>\n",
       "      <th>2010-06-29</th>\n",
       "      <td>19.000000</td>\n",
       "      <td>25.000000</td>\n",
       "      <td>17.540001</td>\n",
       "      <td>23.889999</td>\n",
       "      <td>23.889999</td>\n",
       "      <td>18783276</td>\n",
       "      <td>TSLA</td>\n",
       "    </tr>\n",
       "    <tr>\n",
       "      <th>2010-06-30</th>\n",
       "      <td>25.959999</td>\n",
       "      <td>30.419201</td>\n",
       "      <td>23.299999</td>\n",
       "      <td>23.830000</td>\n",
       "      <td>23.830000</td>\n",
       "      <td>17194394</td>\n",
       "      <td>TSLA</td>\n",
       "    </tr>\n",
       "    <tr>\n",
       "      <th>2010-07-01</th>\n",
       "      <td>25.000000</td>\n",
       "      <td>25.920000</td>\n",
       "      <td>20.270000</td>\n",
       "      <td>21.959999</td>\n",
       "      <td>21.959999</td>\n",
       "      <td>8216789</td>\n",
       "      <td>TSLA</td>\n",
       "    </tr>\n",
       "    <tr>\n",
       "      <th>2010-07-02</th>\n",
       "      <td>23.000000</td>\n",
       "      <td>23.100000</td>\n",
       "      <td>18.709999</td>\n",
       "      <td>19.200001</td>\n",
       "      <td>19.200001</td>\n",
       "      <td>5135795</td>\n",
       "      <td>TSLA</td>\n",
       "    </tr>\n",
       "    <tr>\n",
       "      <th>2010-07-06</th>\n",
       "      <td>20.000000</td>\n",
       "      <td>20.000000</td>\n",
       "      <td>15.830000</td>\n",
       "      <td>16.110001</td>\n",
       "      <td>16.110001</td>\n",
       "      <td>6852634</td>\n",
       "      <td>TSLA</td>\n",
       "    </tr>\n",
       "  </tbody>\n",
       "</table>\n",
       "</div>"
      ],
      "text/plain": [
       "                 Open       High        Low      Close  Adj Close    Volume  \\\n",
       "Date                                                                          \n",
       "2010-06-29  19.000000  25.000000  17.540001  23.889999  23.889999  18783276   \n",
       "2010-06-30  25.959999  30.419201  23.299999  23.830000  23.830000  17194394   \n",
       "2010-07-01  25.000000  25.920000  20.270000  21.959999  21.959999   8216789   \n",
       "2010-07-02  23.000000  23.100000  18.709999  19.200001  19.200001   5135795   \n",
       "2010-07-06  20.000000  20.000000  15.830000  16.110001  16.110001   6852634   \n",
       "\n",
       "            Name  \n",
       "Date              \n",
       "2010-06-29  TSLA  \n",
       "2010-06-30  TSLA  \n",
       "2010-07-01  TSLA  \n",
       "2010-07-02  TSLA  \n",
       "2010-07-06  TSLA  "
      ]
     },
     "execution_count": 21,
     "metadata": {},
     "output_type": "execute_result"
    }
   ],
   "source": [
    "stock_final.head()"
   ]
  },
  {
   "cell_type": "code",
   "execution_count": 22,
   "id": "b3f96f33",
   "metadata": {
    "scrolled": false
   },
   "outputs": [
    {
     "data": {
      "text/plain": [
       "(2700, 7)"
      ]
     },
     "execution_count": 22,
     "metadata": {},
     "output_type": "execute_result"
    }
   ],
   "source": [
    "stock_final.shape"
   ]
  },
  {
   "cell_type": "code",
   "execution_count": 23,
   "id": "fcf32aa2",
   "metadata": {},
   "outputs": [
    {
     "data": {
      "text/html": [
       "<div>\n",
       "<style scoped>\n",
       "    .dataframe tbody tr th:only-of-type {\n",
       "        vertical-align: middle;\n",
       "    }\n",
       "\n",
       "    .dataframe tbody tr th {\n",
       "        vertical-align: top;\n",
       "    }\n",
       "\n",
       "    .dataframe thead th {\n",
       "        text-align: right;\n",
       "    }\n",
       "</style>\n",
       "<table border=\"1\" class=\"dataframe\">\n",
       "  <thead>\n",
       "    <tr style=\"text-align: right;\">\n",
       "      <th></th>\n",
       "      <th>date</th>\n",
       "      <th>price</th>\n",
       "      <th>volume</th>\n",
       "    </tr>\n",
       "  </thead>\n",
       "  <tbody>\n",
       "    <tr>\n",
       "      <th>0</th>\n",
       "      <td>2010-06-29</td>\n",
       "      <td>23.889999</td>\n",
       "      <td>18783276</td>\n",
       "    </tr>\n",
       "    <tr>\n",
       "      <th>1</th>\n",
       "      <td>2010-06-30</td>\n",
       "      <td>23.830000</td>\n",
       "      <td>17194394</td>\n",
       "    </tr>\n",
       "    <tr>\n",
       "      <th>2</th>\n",
       "      <td>2010-07-01</td>\n",
       "      <td>21.959999</td>\n",
       "      <td>8216789</td>\n",
       "    </tr>\n",
       "    <tr>\n",
       "      <th>3</th>\n",
       "      <td>2010-07-02</td>\n",
       "      <td>19.200001</td>\n",
       "      <td>5135795</td>\n",
       "    </tr>\n",
       "    <tr>\n",
       "      <th>4</th>\n",
       "      <td>2010-07-06</td>\n",
       "      <td>16.110001</td>\n",
       "      <td>6852634</td>\n",
       "    </tr>\n",
       "  </tbody>\n",
       "</table>\n",
       "</div>"
      ],
      "text/plain": [
       "         date      price    volume\n",
       "0  2010-06-29  23.889999  18783276\n",
       "1  2010-06-30  23.830000  17194394\n",
       "2  2010-07-01  21.959999   8216789\n",
       "3  2010-07-02  19.200001   5135795\n",
       "4  2010-07-06  16.110001   6852634"
      ]
     },
     "execution_count": 23,
     "metadata": {},
     "output_type": "execute_result"
    }
   ],
   "source": [
    "# get required columns\n",
    "# change each column name as lowercase to sort for ease\n",
    "# reset index and data column type\n",
    "\n",
    "stock = stock_final[['Close', 'Volume']]\n",
    "stock.reset_index(inplace = True)\n",
    "stock = stock.rename(columns = {'Date':'date', 'Close':'price', 'Volume':'volume'})\n",
    "stock['date'] = pd.to_datetime(stock['date']).dt.date\n",
    "stock.head()"
   ]
  },
  {
   "cell_type": "markdown",
   "id": "29468af6",
   "metadata": {},
   "source": [
    "Now, we are creating new columns for `price change` and `volume change`."
   ]
  },
  {
   "cell_type": "markdown",
   "id": "b99eada3",
   "metadata": {},
   "source": [
    "> *Percentage Change Formula = `(New Value - Original Value) / Original Value x 100`*"
   ]
  },
  {
   "cell_type": "code",
   "execution_count": 24,
   "id": "234976f8",
   "metadata": {},
   "outputs": [],
   "source": [
    "price_change = []\n",
    "for i in range(0,2699,1):\n",
    "    price_change.append(np.absolute((stock.price[i+1]-stock.price[i])/stock.price[i])*100)"
   ]
  },
  {
   "cell_type": "code",
   "execution_count": 25,
   "id": "ce0997e6",
   "metadata": {
    "scrolled": true
   },
   "outputs": [
    {
     "name": "stderr",
     "output_type": "stream",
     "text": [
      "C:\\Users\\aicpa\\AppData\\Local\\Temp/ipykernel_25640/666547819.py:5: RuntimeWarning: divide by zero encountered in longlong_scalars\n",
      "  volume_change.append(np.absolute((stock.volume[i+1]-stock.volume[i])/stock.volume[i])*100)\n"
     ]
    }
   ],
   "source": [
    "# there are 2 lines having Zero volume.\n",
    "\n",
    "volume_change = []\n",
    "for i in range(0,2699,1):\n",
    "    volume_change.append(np.absolute((stock.volume[i+1]-stock.volume[i])/stock.volume[i])*100)"
   ]
  },
  {
   "cell_type": "code",
   "execution_count": 26,
   "id": "454d3c00",
   "metadata": {},
   "outputs": [
    {
     "data": {
      "text/html": [
       "<div>\n",
       "<style scoped>\n",
       "    .dataframe tbody tr th:only-of-type {\n",
       "        vertical-align: middle;\n",
       "    }\n",
       "\n",
       "    .dataframe tbody tr th {\n",
       "        vertical-align: top;\n",
       "    }\n",
       "\n",
       "    .dataframe thead th {\n",
       "        text-align: right;\n",
       "    }\n",
       "</style>\n",
       "<table border=\"1\" class=\"dataframe\">\n",
       "  <thead>\n",
       "    <tr style=\"text-align: right;\">\n",
       "      <th></th>\n",
       "      <th>date</th>\n",
       "      <th>price</th>\n",
       "      <th>volume</th>\n",
       "    </tr>\n",
       "  </thead>\n",
       "  <tbody>\n",
       "    <tr>\n",
       "      <th>1317</th>\n",
       "      <td>2015-09-22</td>\n",
       "      <td>260.940002</td>\n",
       "      <td>0</td>\n",
       "    </tr>\n",
       "    <tr>\n",
       "      <th>1811</th>\n",
       "      <td>2017-09-07</td>\n",
       "      <td>350.609985</td>\n",
       "      <td>0</td>\n",
       "    </tr>\n",
       "  </tbody>\n",
       "</table>\n",
       "</div>"
      ],
      "text/plain": [
       "            date       price  volume\n",
       "1317  2015-09-22  260.940002       0\n",
       "1811  2017-09-07  350.609985       0"
      ]
     },
     "execution_count": 26,
     "metadata": {},
     "output_type": "execute_result"
    }
   ],
   "source": [
    "stock[stock.volume == 0]"
   ]
  },
  {
   "cell_type": "code",
   "execution_count": 27,
   "id": "fd5b8459",
   "metadata": {},
   "outputs": [],
   "source": [
    "stock = stock.iloc[1:]   # because the calculation composes pairs"
   ]
  },
  {
   "cell_type": "code",
   "execution_count": 28,
   "id": "c72ecf9c",
   "metadata": {
    "scrolled": true
   },
   "outputs": [],
   "source": [
    "stock['price_change'] = price_change\n",
    "stock['volume_change'] = volume_change"
   ]
  },
  {
   "cell_type": "code",
   "execution_count": 29,
   "id": "a4290bea",
   "metadata": {},
   "outputs": [
    {
     "data": {
      "text/html": [
       "<div>\n",
       "<style scoped>\n",
       "    .dataframe tbody tr th:only-of-type {\n",
       "        vertical-align: middle;\n",
       "    }\n",
       "\n",
       "    .dataframe tbody tr th {\n",
       "        vertical-align: top;\n",
       "    }\n",
       "\n",
       "    .dataframe thead th {\n",
       "        text-align: right;\n",
       "    }\n",
       "</style>\n",
       "<table border=\"1\" class=\"dataframe\">\n",
       "  <thead>\n",
       "    <tr style=\"text-align: right;\">\n",
       "      <th></th>\n",
       "      <th>date</th>\n",
       "      <th>price</th>\n",
       "      <th>volume</th>\n",
       "      <th>price_change</th>\n",
       "      <th>volume_change</th>\n",
       "    </tr>\n",
       "  </thead>\n",
       "  <tbody>\n",
       "    <tr>\n",
       "      <th>1</th>\n",
       "      <td>2010-06-30</td>\n",
       "      <td>23.830000</td>\n",
       "      <td>17194394</td>\n",
       "      <td>0.251149</td>\n",
       "      <td>8.459025</td>\n",
       "    </tr>\n",
       "    <tr>\n",
       "      <th>2</th>\n",
       "      <td>2010-07-01</td>\n",
       "      <td>21.959999</td>\n",
       "      <td>8216789</td>\n",
       "      <td>7.847255</td>\n",
       "      <td>52.212396</td>\n",
       "    </tr>\n",
       "    <tr>\n",
       "      <th>3</th>\n",
       "      <td>2010-07-02</td>\n",
       "      <td>19.200001</td>\n",
       "      <td>5135795</td>\n",
       "      <td>12.568299</td>\n",
       "      <td>37.496326</td>\n",
       "    </tr>\n",
       "    <tr>\n",
       "      <th>4</th>\n",
       "      <td>2010-07-06</td>\n",
       "      <td>16.110001</td>\n",
       "      <td>6852634</td>\n",
       "      <td>16.093750</td>\n",
       "      <td>33.428885</td>\n",
       "    </tr>\n",
       "    <tr>\n",
       "      <th>5</th>\n",
       "      <td>2010-07-07</td>\n",
       "      <td>15.800000</td>\n",
       "      <td>6924914</td>\n",
       "      <td>1.924273</td>\n",
       "      <td>1.054777</td>\n",
       "    </tr>\n",
       "  </tbody>\n",
       "</table>\n",
       "</div>"
      ],
      "text/plain": [
       "         date      price    volume  price_change  volume_change\n",
       "1  2010-06-30  23.830000  17194394      0.251149       8.459025\n",
       "2  2010-07-01  21.959999   8216789      7.847255      52.212396\n",
       "3  2010-07-02  19.200001   5135795     12.568299      37.496326\n",
       "4  2010-07-06  16.110001   6852634     16.093750      33.428885\n",
       "5  2010-07-07  15.800000   6924914      1.924273       1.054777"
      ]
     },
     "execution_count": 29,
     "metadata": {},
     "output_type": "execute_result"
    }
   ],
   "source": [
    "stock.head()"
   ]
  },
  {
   "cell_type": "code",
   "execution_count": 30,
   "id": "e28babfe",
   "metadata": {},
   "outputs": [
    {
     "data": {
      "text/plain": [
       "(2699, 5)"
      ]
     },
     "execution_count": 30,
     "metadata": {},
     "output_type": "execute_result"
    }
   ],
   "source": [
    "stock.shape"
   ]
  },
  {
   "cell_type": "code",
   "execution_count": 31,
   "id": "cc2dd8cd",
   "metadata": {},
   "outputs": [
    {
     "data": {
      "text/plain": [
       "(2005, 2)"
      ]
     },
     "execution_count": 31,
     "metadata": {},
     "output_type": "execute_result"
    }
   ],
   "source": [
    "tcount_rt.shape"
   ]
  },
  {
   "cell_type": "code",
   "execution_count": 32,
   "id": "1026ed9b",
   "metadata": {},
   "outputs": [
    {
     "data": {
      "text/plain": [
       "(1525, 2)"
      ]
     },
     "execution_count": 32,
     "metadata": {},
     "output_type": "execute_result"
    }
   ],
   "source": [
    "tcount_t.shape"
   ]
  },
  {
   "cell_type": "markdown",
   "id": "e47204cb",
   "metadata": {},
   "source": [
    "### Data cleaning"
   ]
  },
  {
   "cell_type": "markdown",
   "id": "21ae2036",
   "metadata": {},
   "source": [
    "#### Tweet(icld.Retweet) + StockPrice = `df1`"
   ]
  },
  {
   "cell_type": "markdown",
   "id": "2cfde115",
   "metadata": {},
   "source": [
    "Because stock data contains more lines than tweet data, we will merge tweet data based on stock data, which triggers Null values in some of the combined datasets. Null means no tweet on the day."
   ]
  },
  {
   "cell_type": "code",
   "execution_count": 33,
   "id": "01ef9556",
   "metadata": {
    "scrolled": false
   },
   "outputs": [
    {
     "data": {
      "text/html": [
       "<div>\n",
       "<style scoped>\n",
       "    .dataframe tbody tr th:only-of-type {\n",
       "        vertical-align: middle;\n",
       "    }\n",
       "\n",
       "    .dataframe tbody tr th {\n",
       "        vertical-align: top;\n",
       "    }\n",
       "\n",
       "    .dataframe thead th {\n",
       "        text-align: right;\n",
       "    }\n",
       "</style>\n",
       "<table border=\"1\" class=\"dataframe\">\n",
       "  <thead>\n",
       "    <tr style=\"text-align: right;\">\n",
       "      <th></th>\n",
       "      <th>date</th>\n",
       "      <th>price</th>\n",
       "      <th>volume</th>\n",
       "      <th>price_change</th>\n",
       "      <th>volume_change</th>\n",
       "      <th>tweet</th>\n",
       "    </tr>\n",
       "  </thead>\n",
       "  <tbody>\n",
       "    <tr>\n",
       "      <th>2694</th>\n",
       "      <td>2021-03-15</td>\n",
       "      <td>707.940002</td>\n",
       "      <td>29423479</td>\n",
       "      <td>2.048351</td>\n",
       "      <td>12.387985</td>\n",
       "      <td>4.0</td>\n",
       "    </tr>\n",
       "    <tr>\n",
       "      <th>2695</th>\n",
       "      <td>2021-03-16</td>\n",
       "      <td>676.880005</td>\n",
       "      <td>32195672</td>\n",
       "      <td>4.387377</td>\n",
       "      <td>9.421704</td>\n",
       "      <td>1.0</td>\n",
       "    </tr>\n",
       "    <tr>\n",
       "      <th>2696</th>\n",
       "      <td>2021-03-17</td>\n",
       "      <td>701.809998</td>\n",
       "      <td>40372453</td>\n",
       "      <td>3.683074</td>\n",
       "      <td>25.397143</td>\n",
       "      <td>3.0</td>\n",
       "    </tr>\n",
       "    <tr>\n",
       "      <th>2697</th>\n",
       "      <td>2021-03-18</td>\n",
       "      <td>653.159973</td>\n",
       "      <td>33369022</td>\n",
       "      <td>6.932079</td>\n",
       "      <td>17.347053</td>\n",
       "      <td>7.0</td>\n",
       "    </tr>\n",
       "    <tr>\n",
       "      <th>2698</th>\n",
       "      <td>2021-03-19</td>\n",
       "      <td>654.869995</td>\n",
       "      <td>42893978</td>\n",
       "      <td>0.261808</td>\n",
       "      <td>28.544307</td>\n",
       "      <td>11.0</td>\n",
       "    </tr>\n",
       "  </tbody>\n",
       "</table>\n",
       "</div>"
      ],
      "text/plain": [
       "            date       price    volume  price_change  volume_change  tweet\n",
       "2694  2021-03-15  707.940002  29423479      2.048351      12.387985    4.0\n",
       "2695  2021-03-16  676.880005  32195672      4.387377       9.421704    1.0\n",
       "2696  2021-03-17  701.809998  40372453      3.683074      25.397143    3.0\n",
       "2697  2021-03-18  653.159973  33369022      6.932079      17.347053    7.0\n",
       "2698  2021-03-19  654.869995  42893978      0.261808      28.544307   11.0"
      ]
     },
     "execution_count": 33,
     "metadata": {},
     "output_type": "execute_result"
    }
   ],
   "source": [
    "# Based on Stock data. (how = 'left')\n",
    "# We do left join based on Stock data because the number of tweets include Null values, which means no tweet recorded on that day. \n",
    "\n",
    "df1 = stock.merge(tcount_rt, left_on = 'date', right_on = 'date', how = 'left')\n",
    "df1 = df1.fillna(0)\n",
    "df1.tail(5)"
   ]
  },
  {
   "cell_type": "code",
   "execution_count": 34,
   "id": "2fe3db87",
   "metadata": {
    "scrolled": true
   },
   "outputs": [
    {
     "data": {
      "text/plain": [
       "(2699, 6)"
      ]
     },
     "execution_count": 34,
     "metadata": {},
     "output_type": "execute_result"
    }
   ],
   "source": [
    "df1.shape"
   ]
  },
  {
   "cell_type": "code",
   "execution_count": 35,
   "id": "9add0e5b",
   "metadata": {},
   "outputs": [
    {
     "data": {
      "text/html": [
       "<div>\n",
       "<style scoped>\n",
       "    .dataframe tbody tr th:only-of-type {\n",
       "        vertical-align: middle;\n",
       "    }\n",
       "\n",
       "    .dataframe tbody tr th {\n",
       "        vertical-align: top;\n",
       "    }\n",
       "\n",
       "    .dataframe thead th {\n",
       "        text-align: right;\n",
       "    }\n",
       "</style>\n",
       "<table border=\"1\" class=\"dataframe\">\n",
       "  <thead>\n",
       "    <tr style=\"text-align: right;\">\n",
       "      <th></th>\n",
       "      <th>date</th>\n",
       "      <th>price</th>\n",
       "      <th>volume</th>\n",
       "      <th>price_change</th>\n",
       "      <th>volume_change</th>\n",
       "      <th>tweet</th>\n",
       "    </tr>\n",
       "  </thead>\n",
       "  <tbody>\n",
       "    <tr>\n",
       "      <th>350</th>\n",
       "      <td>2011-11-16</td>\n",
       "      <td>34.939999</td>\n",
       "      <td>1833136</td>\n",
       "      <td>2.976712</td>\n",
       "      <td>105.761108</td>\n",
       "      <td>0.0</td>\n",
       "    </tr>\n",
       "    <tr>\n",
       "      <th>351</th>\n",
       "      <td>2011-11-17</td>\n",
       "      <td>33.680000</td>\n",
       "      <td>1349265</td>\n",
       "      <td>3.606177</td>\n",
       "      <td>26.395805</td>\n",
       "      <td>0.0</td>\n",
       "    </tr>\n",
       "    <tr>\n",
       "      <th>352</th>\n",
       "      <td>2011-11-18</td>\n",
       "      <td>32.599998</td>\n",
       "      <td>902729</td>\n",
       "      <td>3.206656</td>\n",
       "      <td>33.094759</td>\n",
       "      <td>0.0</td>\n",
       "    </tr>\n",
       "    <tr>\n",
       "      <th>353</th>\n",
       "      <td>2011-11-21</td>\n",
       "      <td>31.760000</td>\n",
       "      <td>1031524</td>\n",
       "      <td>2.576682</td>\n",
       "      <td>14.267294</td>\n",
       "      <td>0.0</td>\n",
       "    </tr>\n",
       "    <tr>\n",
       "      <th>354</th>\n",
       "      <td>2011-11-22</td>\n",
       "      <td>32.070000</td>\n",
       "      <td>732518</td>\n",
       "      <td>0.976069</td>\n",
       "      <td>28.986820</td>\n",
       "      <td>0.0</td>\n",
       "    </tr>\n",
       "  </tbody>\n",
       "</table>\n",
       "</div>"
      ],
      "text/plain": [
       "           date      price   volume  price_change  volume_change  tweet\n",
       "350  2011-11-16  34.939999  1833136      2.976712     105.761108    0.0\n",
       "351  2011-11-17  33.680000  1349265      3.606177      26.395805    0.0\n",
       "352  2011-11-18  32.599998   902729      3.206656      33.094759    0.0\n",
       "353  2011-11-21  31.760000  1031524      2.576682      14.267294    0.0\n",
       "354  2011-11-22  32.070000   732518      0.976069      28.986820    0.0"
      ]
     },
     "execution_count": 35,
     "metadata": {},
     "output_type": "execute_result"
    }
   ],
   "source": [
    "# exclude the first half year becase of NaN for tweet during the period\n",
    "\n",
    "df1 = df1[350:]\n",
    "df1.head()"
   ]
  },
  {
   "cell_type": "code",
   "execution_count": 36,
   "id": "bba24938",
   "metadata": {
    "scrolled": true
   },
   "outputs": [
    {
     "data": {
      "image/png": "[encoded data removed]",
      "text/plain": [
       "<Figure size 1152x648 with 1 Axes>"
      ]
     },
     "metadata": {
      "needs_background": "light"
     },
     "output_type": "display_data"
    }
   ],
   "source": [
    "plt.figure(figsize = (16,9))\n",
    "\n",
    "plt.scatter(data = df1, x = 'date', y = 'tweet', alpha = 0.5)\n",
    "plt.title('Tweets per day (icld.RT)')\n",
    "plt.xlabel('Date')\n",
    "plt.ylabel('Tweet count')\n",
    "plt.grid(axis='x')\n",
    "plt.grid(axis='y')"
   ]
  },
  {
   "cell_type": "markdown",
   "id": "b7839f8a",
   "metadata": {},
   "source": [
    "#### Tweet(icld.Retweet) x 99% + StockPrice = `df1r`"
   ]
  },
  {
   "cell_type": "markdown",
   "id": "e0bccddb",
   "metadata": {},
   "source": [
    "Get rid of outliers out of 99% percentile, and store it to a new variable, `df1r`."
   ]
  },
  {
   "cell_type": "code",
   "execution_count": 37,
   "id": "a8d65b56",
   "metadata": {
    "scrolled": true
   },
   "outputs": [
    {
     "data": {
      "text/plain": [
       "54.0"
      ]
     },
     "execution_count": 37,
     "metadata": {},
     "output_type": "execute_result"
    }
   ],
   "source": [
    "r = np.percentile(df1.dropna().tweet, 99)\n",
    "r"
   ]
  },
  {
   "cell_type": "code",
   "execution_count": 38,
   "id": "d6e864ec",
   "metadata": {
    "scrolled": false
   },
   "outputs": [
    {
     "data": {
      "text/plain": [
       "date             2021-03-19\n",
       "price            887.059998\n",
       "volume            222126194\n",
       "price_change      78.540806\n",
       "volume_change           inf\n",
       "tweet                  52.0\n",
       "dtype: object"
      ]
     },
     "execution_count": 38,
     "metadata": {},
     "output_type": "execute_result"
    }
   ],
   "source": [
    "df1r = df1[df1.tweet < r]\n",
    "df1r.max()"
   ]
  },
  {
   "cell_type": "markdown",
   "id": "77c73549",
   "metadata": {},
   "source": [
    "Because we set a condition on the number of tweets at 99% percentile, or 58, the maximum value in the sorted sample shows 56."
   ]
  },
  {
   "cell_type": "code",
   "execution_count": 39,
   "id": "9a3f991d",
   "metadata": {},
   "outputs": [
    {
     "data": {
      "image/png": "[encoded data removed]",
      "text/plain": [
       "<Figure size 1152x648 with 1 Axes>"
      ]
     },
     "metadata": {
      "needs_background": "light"
     },
     "output_type": "display_data"
    }
   ],
   "source": [
    "plt.figure(figsize = (16,9))\n",
    "\n",
    "plt.scatter(data = df1r, x = 'date', y = 'tweet', alpha = 0.5)\n",
    "plt.title('Tweets per day (icld.RT after removing outliers)')\n",
    "plt.xlabel('Date')\n",
    "plt.ylabel('Tweet count')\n",
    "plt.grid(axis='x')\n",
    "plt.grid(axis='y')"
   ]
  },
  {
   "cell_type": "markdown",
   "id": "9a624e08",
   "metadata": {},
   "source": [
    "#### Tweet(excl.Retweet) + StockPrice = `df2`"
   ]
  },
  {
   "cell_type": "markdown",
   "id": "6f9e27de",
   "metadata": {},
   "source": [
    "Get rid of Retweets from df1, and store it to a new variable, `df2`."
   ]
  },
  {
   "cell_type": "code",
   "execution_count": 40,
   "id": "4800dd87",
   "metadata": {
    "scrolled": true
   },
   "outputs": [
    {
     "data": {
      "text/html": [
       "<div>\n",
       "<style scoped>\n",
       "    .dataframe tbody tr th:only-of-type {\n",
       "        vertical-align: middle;\n",
       "    }\n",
       "\n",
       "    .dataframe tbody tr th {\n",
       "        vertical-align: top;\n",
       "    }\n",
       "\n",
       "    .dataframe thead th {\n",
       "        text-align: right;\n",
       "    }\n",
       "</style>\n",
       "<table border=\"1\" class=\"dataframe\">\n",
       "  <thead>\n",
       "    <tr style=\"text-align: right;\">\n",
       "      <th></th>\n",
       "      <th>date</th>\n",
       "      <th>price</th>\n",
       "      <th>volume</th>\n",
       "      <th>price_change</th>\n",
       "      <th>volume_change</th>\n",
       "      <th>tweet</th>\n",
       "    </tr>\n",
       "  </thead>\n",
       "  <tbody>\n",
       "    <tr>\n",
       "      <th>2694</th>\n",
       "      <td>2021-03-15</td>\n",
       "      <td>707.940002</td>\n",
       "      <td>29423479</td>\n",
       "      <td>2.048351</td>\n",
       "      <td>12.387985</td>\n",
       "      <td>1.0</td>\n",
       "    </tr>\n",
       "    <tr>\n",
       "      <th>2695</th>\n",
       "      <td>2021-03-16</td>\n",
       "      <td>676.880005</td>\n",
       "      <td>32195672</td>\n",
       "      <td>4.387377</td>\n",
       "      <td>9.421704</td>\n",
       "      <td>1.0</td>\n",
       "    </tr>\n",
       "    <tr>\n",
       "      <th>2696</th>\n",
       "      <td>2021-03-17</td>\n",
       "      <td>701.809998</td>\n",
       "      <td>40372453</td>\n",
       "      <td>3.683074</td>\n",
       "      <td>25.397143</td>\n",
       "      <td>1.0</td>\n",
       "    </tr>\n",
       "    <tr>\n",
       "      <th>2697</th>\n",
       "      <td>2021-03-18</td>\n",
       "      <td>653.159973</td>\n",
       "      <td>33369022</td>\n",
       "      <td>6.932079</td>\n",
       "      <td>17.347053</td>\n",
       "      <td>3.0</td>\n",
       "    </tr>\n",
       "    <tr>\n",
       "      <th>2698</th>\n",
       "      <td>2021-03-19</td>\n",
       "      <td>654.869995</td>\n",
       "      <td>42893978</td>\n",
       "      <td>0.261808</td>\n",
       "      <td>28.544307</td>\n",
       "      <td>1.0</td>\n",
       "    </tr>\n",
       "  </tbody>\n",
       "</table>\n",
       "</div>"
      ],
      "text/plain": [
       "            date       price    volume  price_change  volume_change  tweet\n",
       "2694  2021-03-15  707.940002  29423479      2.048351      12.387985    1.0\n",
       "2695  2021-03-16  676.880005  32195672      4.387377       9.421704    1.0\n",
       "2696  2021-03-17  701.809998  40372453      3.683074      25.397143    1.0\n",
       "2697  2021-03-18  653.159973  33369022      6.932079      17.347053    3.0\n",
       "2698  2021-03-19  654.869995  42893978      0.261808      28.544307    1.0"
      ]
     },
     "execution_count": 40,
     "metadata": {},
     "output_type": "execute_result"
    }
   ],
   "source": [
    "df2 = stock.merge(tcount_t, left_on = 'date', right_on = 'date', how = 'left')\n",
    "df2 = df2.fillna(0)\n",
    "df2.tail(5)"
   ]
  },
  {
   "cell_type": "code",
   "execution_count": 41,
   "id": "7c81ccc1",
   "metadata": {},
   "outputs": [
    {
     "data": {
      "text/plain": [
       "(2699, 6)"
      ]
     },
     "execution_count": 41,
     "metadata": {},
     "output_type": "execute_result"
    }
   ],
   "source": [
    "df2.shape"
   ]
  },
  {
   "cell_type": "code",
   "execution_count": 42,
   "id": "01a64bcc",
   "metadata": {},
   "outputs": [
    {
     "data": {
      "text/html": [
       "<div>\n",
       "<style scoped>\n",
       "    .dataframe tbody tr th:only-of-type {\n",
       "        vertical-align: middle;\n",
       "    }\n",
       "\n",
       "    .dataframe tbody tr th {\n",
       "        vertical-align: top;\n",
       "    }\n",
       "\n",
       "    .dataframe thead th {\n",
       "        text-align: right;\n",
       "    }\n",
       "</style>\n",
       "<table border=\"1\" class=\"dataframe\">\n",
       "  <thead>\n",
       "    <tr style=\"text-align: right;\">\n",
       "      <th></th>\n",
       "      <th>date</th>\n",
       "      <th>price</th>\n",
       "      <th>volume</th>\n",
       "      <th>price_change</th>\n",
       "      <th>volume_change</th>\n",
       "      <th>tweet</th>\n",
       "    </tr>\n",
       "  </thead>\n",
       "  <tbody>\n",
       "    <tr>\n",
       "      <th>350</th>\n",
       "      <td>2011-11-16</td>\n",
       "      <td>34.939999</td>\n",
       "      <td>1833136</td>\n",
       "      <td>2.976712</td>\n",
       "      <td>105.761108</td>\n",
       "      <td>0.0</td>\n",
       "    </tr>\n",
       "    <tr>\n",
       "      <th>351</th>\n",
       "      <td>2011-11-17</td>\n",
       "      <td>33.680000</td>\n",
       "      <td>1349265</td>\n",
       "      <td>3.606177</td>\n",
       "      <td>26.395805</td>\n",
       "      <td>0.0</td>\n",
       "    </tr>\n",
       "    <tr>\n",
       "      <th>352</th>\n",
       "      <td>2011-11-18</td>\n",
       "      <td>32.599998</td>\n",
       "      <td>902729</td>\n",
       "      <td>3.206656</td>\n",
       "      <td>33.094759</td>\n",
       "      <td>0.0</td>\n",
       "    </tr>\n",
       "    <tr>\n",
       "      <th>353</th>\n",
       "      <td>2011-11-21</td>\n",
       "      <td>31.760000</td>\n",
       "      <td>1031524</td>\n",
       "      <td>2.576682</td>\n",
       "      <td>14.267294</td>\n",
       "      <td>0.0</td>\n",
       "    </tr>\n",
       "    <tr>\n",
       "      <th>354</th>\n",
       "      <td>2011-11-22</td>\n",
       "      <td>32.070000</td>\n",
       "      <td>732518</td>\n",
       "      <td>0.976069</td>\n",
       "      <td>28.986820</td>\n",
       "      <td>0.0</td>\n",
       "    </tr>\n",
       "  </tbody>\n",
       "</table>\n",
       "</div>"
      ],
      "text/plain": [
       "           date      price   volume  price_change  volume_change  tweet\n",
       "350  2011-11-16  34.939999  1833136      2.976712     105.761108    0.0\n",
       "351  2011-11-17  33.680000  1349265      3.606177      26.395805    0.0\n",
       "352  2011-11-18  32.599998   902729      3.206656      33.094759    0.0\n",
       "353  2011-11-21  31.760000  1031524      2.576682      14.267294    0.0\n",
       "354  2011-11-22  32.070000   732518      0.976069      28.986820    0.0"
      ]
     },
     "execution_count": 42,
     "metadata": {},
     "output_type": "execute_result"
    }
   ],
   "source": [
    "df2 = df2[350:]\n",
    "df2.head()"
   ]
  },
  {
   "cell_type": "code",
   "execution_count": 43,
   "id": "0a6c73aa",
   "metadata": {},
   "outputs": [
    {
     "data": {
      "image/png": "[encoded data removed]",
      "text/plain": [
       "<Figure size 1152x648 with 1 Axes>"
      ]
     },
     "metadata": {
      "needs_background": "light"
     },
     "output_type": "display_data"
    }
   ],
   "source": [
    "plt.figure(figsize = (16,9))\n",
    "\n",
    "plt.scatter(data = df2, x = 'date', y = 'tweet', alpha = 0.5)\n",
    "plt.title('Tweets per day (excl.RT before removing outliers)')\n",
    "plt.xlabel('Date')\n",
    "plt.ylabel('Tweet count')\n",
    "plt.grid(axis='x')\n",
    "plt.grid(axis='y')"
   ]
  },
  {
   "cell_type": "markdown",
   "id": "51a59f3f",
   "metadata": {},
   "source": [
    "#### Tweet(excl.Retweet) x 99% + StockPrice = `df2r`"
   ]
  },
  {
   "cell_type": "markdown",
   "id": "f12d7fdd",
   "metadata": {},
   "source": [
    "Get rid of outliers out of 99% percentile, and store it to a new variable, `df2r`."
   ]
  },
  {
   "cell_type": "code",
   "execution_count": 44,
   "id": "2e996c77",
   "metadata": {},
   "outputs": [
    {
     "data": {
      "text/plain": [
       "14.0"
      ]
     },
     "execution_count": 44,
     "metadata": {},
     "output_type": "execute_result"
    }
   ],
   "source": [
    "r = np.percentile(df2.dropna().tweet, 99)\n",
    "r"
   ]
  },
  {
   "cell_type": "code",
   "execution_count": 45,
   "id": "4c60cc1f",
   "metadata": {},
   "outputs": [
    {
     "data": {
      "text/plain": [
       "date             2021-03-19\n",
       "price            887.059998\n",
       "volume            222126194\n",
       "price_change      78.540806\n",
       "volume_change           inf\n",
       "tweet                  12.0\n",
       "dtype: object"
      ]
     },
     "execution_count": 45,
     "metadata": {},
     "output_type": "execute_result"
    }
   ],
   "source": [
    "df2r = df2[df2.tweet < r]\n",
    "df2r.max()"
   ]
  },
  {
   "cell_type": "markdown",
   "id": "5e2edf29",
   "metadata": {},
   "source": [
    "Because we set a condition on the number of tweets at 99% percentile, or 18, the maximum value in the sorted sample shows 16."
   ]
  },
  {
   "cell_type": "code",
   "execution_count": 46,
   "id": "13ebe765",
   "metadata": {
    "scrolled": true
   },
   "outputs": [
    {
     "data": {
      "image/png": "[encoded data removed]",
      "text/plain": [
       "<Figure size 1152x648 with 1 Axes>"
      ]
     },
     "metadata": {
      "needs_background": "light"
     },
     "output_type": "display_data"
    }
   ],
   "source": [
    "plt.figure(figsize = (16,9))\n",
    "\n",
    "plt.scatter(data = df2r, x = 'date', y = 'tweet', alpha = 0.5)\n",
    "plt.title('Tweets per day (excl.RT after removing outliers)')\n",
    "plt.xlabel('Date')\n",
    "plt.ylabel('Tweet count')\n",
    "plt.grid(axis='x')\n",
    "plt.grid(axis='y')"
   ]
  },
  {
   "cell_type": "markdown",
   "id": "a10d8fbf",
   "metadata": {},
   "source": [
    "> `df1` = Stock price + Tweets with Retweet\n",
    "\n",
    "> `df1r` = Stock price + Tweets with Retweet x **99%**\n",
    "\n",
    "> `df2` = Stock price + Tweets **without** Retweet\n",
    "\n",
    "> `df2r` = Stock price + Tweets **without** Retweet x **99%**"
   ]
  },
  {
   "cell_type": "code",
   "execution_count": 47,
   "id": "3d0a8ddb",
   "metadata": {},
   "outputs": [
    {
     "name": "stdout",
     "output_type": "stream",
     "text": [
      "<class 'pandas.core.frame.DataFrame'>\n",
      "Int64Index: 2349 entries, 350 to 2698\n",
      "Data columns (total 6 columns):\n",
      " #   Column         Non-Null Count  Dtype  \n",
      "---  ------         --------------  -----  \n",
      " 0   date           2349 non-null   object \n",
      " 1   price          2349 non-null   float64\n",
      " 2   volume         2349 non-null   int64  \n",
      " 3   price_change   2349 non-null   float64\n",
      " 4   volume_change  2349 non-null   float64\n",
      " 5   tweet          2349 non-null   float64\n",
      "dtypes: float64(4), int64(1), object(1)\n",
      "memory usage: 128.5+ KB\n"
     ]
    }
   ],
   "source": [
    "df1.info()"
   ]
  },
  {
   "cell_type": "code",
   "execution_count": 48,
   "id": "c7960182",
   "metadata": {},
   "outputs": [
    {
     "name": "stdout",
     "output_type": "stream",
     "text": [
      "<class 'pandas.core.frame.DataFrame'>\n",
      "Int64Index: 2324 entries, 350 to 2698\n",
      "Data columns (total 6 columns):\n",
      " #   Column         Non-Null Count  Dtype  \n",
      "---  ------         --------------  -----  \n",
      " 0   date           2324 non-null   object \n",
      " 1   price          2324 non-null   float64\n",
      " 2   volume         2324 non-null   int64  \n",
      " 3   price_change   2324 non-null   float64\n",
      " 4   volume_change  2324 non-null   float64\n",
      " 5   tweet          2324 non-null   float64\n",
      "dtypes: float64(4), int64(1), object(1)\n",
      "memory usage: 127.1+ KB\n"
     ]
    }
   ],
   "source": [
    "df1r.info()"
   ]
  },
  {
   "cell_type": "code",
   "execution_count": 49,
   "id": "a29bc67d",
   "metadata": {},
   "outputs": [
    {
     "name": "stdout",
     "output_type": "stream",
     "text": [
      "<class 'pandas.core.frame.DataFrame'>\n",
      "Int64Index: 2349 entries, 350 to 2698\n",
      "Data columns (total 6 columns):\n",
      " #   Column         Non-Null Count  Dtype  \n",
      "---  ------         --------------  -----  \n",
      " 0   date           2349 non-null   object \n",
      " 1   price          2349 non-null   float64\n",
      " 2   volume         2349 non-null   int64  \n",
      " 3   price_change   2349 non-null   float64\n",
      " 4   volume_change  2349 non-null   float64\n",
      " 5   tweet          2349 non-null   float64\n",
      "dtypes: float64(4), int64(1), object(1)\n",
      "memory usage: 128.5+ KB\n"
     ]
    }
   ],
   "source": [
    "df2.info()"
   ]
  },
  {
   "cell_type": "code",
   "execution_count": 50,
   "id": "1fd4d860",
   "metadata": {},
   "outputs": [
    {
     "name": "stdout",
     "output_type": "stream",
     "text": [
      "<class 'pandas.core.frame.DataFrame'>\n",
      "Int64Index: 2311 entries, 350 to 2698\n",
      "Data columns (total 6 columns):\n",
      " #   Column         Non-Null Count  Dtype  \n",
      "---  ------         --------------  -----  \n",
      " 0   date           2311 non-null   object \n",
      " 1   price          2311 non-null   float64\n",
      " 2   volume         2311 non-null   int64  \n",
      " 3   price_change   2311 non-null   float64\n",
      " 4   volume_change  2311 non-null   float64\n",
      " 5   tweet          2311 non-null   float64\n",
      "dtypes: float64(4), int64(1), object(1)\n",
      "memory usage: 126.4+ KB\n"
     ]
    }
   ],
   "source": [
    "df2r.info()"
   ]
  },
  {
   "cell_type": "code",
   "execution_count": 51,
   "id": "766728b1",
   "metadata": {},
   "outputs": [
    {
     "data": {
      "text/html": [
       "<svg  width=\"550\" height=\"55\"><rect x=\"0\" y=\"0\" width=\"55\" height=\"55\" style=\"fill:#1f77b4;stroke-width:2;stroke:rgb(255,255,255)\"/><rect x=\"55\" y=\"0\" width=\"55\" height=\"55\" style=\"fill:#ff7f0e;stroke-width:2;stroke:rgb(255,255,255)\"/><rect x=\"110\" y=\"0\" width=\"55\" height=\"55\" style=\"fill:#2ca02c;stroke-width:2;stroke:rgb(255,255,255)\"/><rect x=\"165\" y=\"0\" width=\"55\" height=\"55\" style=\"fill:#d62728;stroke-width:2;stroke:rgb(255,255,255)\"/><rect x=\"220\" y=\"0\" width=\"55\" height=\"55\" style=\"fill:#9467bd;stroke-width:2;stroke:rgb(255,255,255)\"/><rect x=\"275\" y=\"0\" width=\"55\" height=\"55\" style=\"fill:#8c564b;stroke-width:2;stroke:rgb(255,255,255)\"/><rect x=\"330\" y=\"0\" width=\"55\" height=\"55\" style=\"fill:#e377c2;stroke-width:2;stroke:rgb(255,255,255)\"/><rect x=\"385\" y=\"0\" width=\"55\" height=\"55\" style=\"fill:#7f7f7f;stroke-width:2;stroke:rgb(255,255,255)\"/><rect x=\"440\" y=\"0\" width=\"55\" height=\"55\" style=\"fill:#bcbd22;stroke-width:2;stroke:rgb(255,255,255)\"/><rect x=\"495\" y=\"0\" width=\"55\" height=\"55\" style=\"fill:#17becf;stroke-width:2;stroke:rgb(255,255,255)\"/></svg>"
      ],
      "text/plain": [
       "[(0.12156862745098039, 0.4666666666666667, 0.7058823529411765),\n",
       " (1.0, 0.4980392156862745, 0.054901960784313725),\n",
       " (0.17254901960784313, 0.6274509803921569, 0.17254901960784313),\n",
       " (0.8392156862745098, 0.15294117647058825, 0.1568627450980392),\n",
       " (0.5803921568627451, 0.403921568627451, 0.7411764705882353),\n",
       " (0.5490196078431373, 0.33725490196078434, 0.29411764705882354),\n",
       " (0.8901960784313725, 0.4666666666666667, 0.7607843137254902),\n",
       " (0.4980392156862745, 0.4980392156862745, 0.4980392156862745),\n",
       " (0.7372549019607844, 0.7411764705882353, 0.13333333333333333),\n",
       " (0.09019607843137255, 0.7450980392156863, 0.8117647058823529)]"
      ]
     },
     "execution_count": 51,
     "metadata": {},
     "output_type": "execute_result"
    }
   ],
   "source": [
    "sb.color_palette()"
   ]
  },
  {
   "cell_type": "code",
   "execution_count": 52,
   "id": "ef86f787",
   "metadata": {},
   "outputs": [
    {
     "data": {
      "image/png": "[encoded data removed]",
      "text/plain": [
       "<Figure size 1368x864 with 4 Axes>"
      ]
     },
     "metadata": {
      "needs_background": "light"
     },
     "output_type": "display_data"
    }
   ],
   "source": [
    "plt.figure(figsize = (19,12))\n",
    "\n",
    "plt.subplot(2,2,1)\n",
    "\n",
    "bins = np.arange(0, df1.tweet.max()+1, 2)\n",
    "plt.hist(data = df1, x = 'tweet', bins = bins, color = sb.color_palette()[0]);\n",
    "plt.title('Tweets per day (incl. Retweet)')\n",
    "plt.xlabel('Tweet count(n)')\n",
    "plt.ylabel('Frequency(%)')\n",
    "\n",
    "plt.subplot(2,2,2)\n",
    "bins = np.arange(0, df1r.tweet.max()+1, 2)\n",
    "plt.hist(data = df1r, x = 'tweet', bins = bins, color = sb.color_palette()[0]);\n",
    "plt.title('Tweets per day (incl. Retweet and excl. outlier)')\n",
    "plt.xlabel('Tweet count(n)')\n",
    "plt.ylabel('Frequency(%)')\n",
    "\n",
    "plt.subplot(2,2,3)\n",
    "bins = np.arange(0, df2.tweet.max()+1, 2)\n",
    "plt.hist(data = df2, x = 'tweet', bins = bins, color = sb.color_palette()[9]);\n",
    "plt.title('Tweets per day (excl. Retweet)')\n",
    "plt.xlabel('Tweet count(n)')\n",
    "plt.ylabel('Frequency(%)')\n",
    "\n",
    "plt.subplot(2,2,4)\n",
    "bins = np.arange(0, df2r.tweet.max()+1, 2)\n",
    "plt.hist(data = df2r, x = 'tweet', bins = bins, color = sb.color_palette()[9]);\n",
    "plt.title('Tweets per day (excl. Retweet and excl. outlier)')\n",
    "plt.xlabel('Tweet count(n)')\n",
    "plt.ylabel('Frequency(%)')\n",
    "\n",
    "plt.show();"
   ]
  },
  {
   "cell_type": "markdown",
   "id": "473357fc",
   "metadata": {},
   "source": [
    "### Statistical analysis"
   ]
  },
  {
   "cell_type": "markdown",
   "id": "1e48fe0e",
   "metadata": {},
   "source": [
    "#### Five-number summary"
   ]
  },
  {
   "cell_type": "code",
   "execution_count": 53,
   "id": "c3c9f6ff",
   "metadata": {},
   "outputs": [
    {
     "data": {
      "text/html": [
       "<div>\n",
       "<style scoped>\n",
       "    .dataframe tbody tr th:only-of-type {\n",
       "        vertical-align: middle;\n",
       "    }\n",
       "\n",
       "    .dataframe tbody tr th {\n",
       "        vertical-align: top;\n",
       "    }\n",
       "\n",
       "    .dataframe thead th {\n",
       "        text-align: right;\n",
       "    }\n",
       "</style>\n",
       "<table border=\"1\" class=\"dataframe\">\n",
       "  <thead>\n",
       "    <tr style=\"text-align: right;\">\n",
       "      <th></th>\n",
       "      <th>price_change</th>\n",
       "      <th>tweet</th>\n",
       "    </tr>\n",
       "  </thead>\n",
       "  <tbody>\n",
       "    <tr>\n",
       "      <th>count</th>\n",
       "      <td>2349.000000</td>\n",
       "      <td>2349.000000</td>\n",
       "    </tr>\n",
       "    <tr>\n",
       "      <th>mean</th>\n",
       "      <td>2.421608</td>\n",
       "      <td>7.038740</td>\n",
       "    </tr>\n",
       "    <tr>\n",
       "      <th>std</th>\n",
       "      <td>3.057158</td>\n",
       "      <td>11.515996</td>\n",
       "    </tr>\n",
       "    <tr>\n",
       "      <th>min</th>\n",
       "      <td>0.000000</td>\n",
       "      <td>0.000000</td>\n",
       "    </tr>\n",
       "    <tr>\n",
       "      <th>25%</th>\n",
       "      <td>0.705341</td>\n",
       "      <td>0.000000</td>\n",
       "    </tr>\n",
       "    <tr>\n",
       "      <th>50%</th>\n",
       "      <td>1.685965</td>\n",
       "      <td>2.000000</td>\n",
       "    </tr>\n",
       "    <tr>\n",
       "      <th>75%</th>\n",
       "      <td>3.063293</td>\n",
       "      <td>10.000000</td>\n",
       "    </tr>\n",
       "    <tr>\n",
       "      <th>max</th>\n",
       "      <td>78.540806</td>\n",
       "      <td>112.000000</td>\n",
       "    </tr>\n",
       "  </tbody>\n",
       "</table>\n",
       "</div>"
      ],
      "text/plain": [
       "       price_change        tweet\n",
       "count   2349.000000  2349.000000\n",
       "mean       2.421608     7.038740\n",
       "std        3.057158    11.515996\n",
       "min        0.000000     0.000000\n",
       "25%        0.705341     0.000000\n",
       "50%        1.685965     2.000000\n",
       "75%        3.063293    10.000000\n",
       "max       78.540806   112.000000"
      ]
     },
     "execution_count": 53,
     "metadata": {},
     "output_type": "execute_result"
    }
   ],
   "source": [
    "df1[['price_change', 'tweet']].describe()"
   ]
  },
  {
   "cell_type": "code",
   "execution_count": 54,
   "id": "85cc5ea7",
   "metadata": {},
   "outputs": [
    {
     "data": {
      "text/html": [
       "<div>\n",
       "<style scoped>\n",
       "    .dataframe tbody tr th:only-of-type {\n",
       "        vertical-align: middle;\n",
       "    }\n",
       "\n",
       "    .dataframe tbody tr th {\n",
       "        vertical-align: top;\n",
       "    }\n",
       "\n",
       "    .dataframe thead th {\n",
       "        text-align: right;\n",
       "    }\n",
       "</style>\n",
       "<table border=\"1\" class=\"dataframe\">\n",
       "  <thead>\n",
       "    <tr style=\"text-align: right;\">\n",
       "      <th></th>\n",
       "      <th>price_change</th>\n",
       "      <th>tweet</th>\n",
       "    </tr>\n",
       "  </thead>\n",
       "  <tbody>\n",
       "    <tr>\n",
       "      <th>count</th>\n",
       "      <td>2324.000000</td>\n",
       "      <td>2324.00000</td>\n",
       "    </tr>\n",
       "    <tr>\n",
       "      <th>mean</th>\n",
       "      <td>2.419355</td>\n",
       "      <td>6.39673</td>\n",
       "    </tr>\n",
       "    <tr>\n",
       "      <th>std</th>\n",
       "      <td>3.061306</td>\n",
       "      <td>9.62670</td>\n",
       "    </tr>\n",
       "    <tr>\n",
       "      <th>min</th>\n",
       "      <td>0.000000</td>\n",
       "      <td>0.00000</td>\n",
       "    </tr>\n",
       "    <tr>\n",
       "      <th>25%</th>\n",
       "      <td>0.705166</td>\n",
       "      <td>0.00000</td>\n",
       "    </tr>\n",
       "    <tr>\n",
       "      <th>50%</th>\n",
       "      <td>1.686913</td>\n",
       "      <td>2.00000</td>\n",
       "    </tr>\n",
       "    <tr>\n",
       "      <th>75%</th>\n",
       "      <td>3.061029</td>\n",
       "      <td>8.00000</td>\n",
       "    </tr>\n",
       "    <tr>\n",
       "      <th>max</th>\n",
       "      <td>78.540806</td>\n",
       "      <td>52.00000</td>\n",
       "    </tr>\n",
       "  </tbody>\n",
       "</table>\n",
       "</div>"
      ],
      "text/plain": [
       "       price_change       tweet\n",
       "count   2324.000000  2324.00000\n",
       "mean       2.419355     6.39673\n",
       "std        3.061306     9.62670\n",
       "min        0.000000     0.00000\n",
       "25%        0.705166     0.00000\n",
       "50%        1.686913     2.00000\n",
       "75%        3.061029     8.00000\n",
       "max       78.540806    52.00000"
      ]
     },
     "execution_count": 54,
     "metadata": {},
     "output_type": "execute_result"
    }
   ],
   "source": [
    "df1r[['price_change', 'tweet']].describe()"
   ]
  },
  {
   "cell_type": "code",
   "execution_count": 55,
   "id": "94ace26f",
   "metadata": {},
   "outputs": [
    {
     "data": {
      "text/html": [
       "<div>\n",
       "<style scoped>\n",
       "    .dataframe tbody tr th:only-of-type {\n",
       "        vertical-align: middle;\n",
       "    }\n",
       "\n",
       "    .dataframe tbody tr th {\n",
       "        vertical-align: top;\n",
       "    }\n",
       "\n",
       "    .dataframe thead th {\n",
       "        text-align: right;\n",
       "    }\n",
       "</style>\n",
       "<table border=\"1\" class=\"dataframe\">\n",
       "  <thead>\n",
       "    <tr style=\"text-align: right;\">\n",
       "      <th></th>\n",
       "      <th>price_change</th>\n",
       "      <th>tweet</th>\n",
       "    </tr>\n",
       "  </thead>\n",
       "  <tbody>\n",
       "    <tr>\n",
       "      <th>count</th>\n",
       "      <td>2349.000000</td>\n",
       "      <td>2349.000000</td>\n",
       "    </tr>\n",
       "    <tr>\n",
       "      <th>mean</th>\n",
       "      <td>2.421608</td>\n",
       "      <td>2.056620</td>\n",
       "    </tr>\n",
       "    <tr>\n",
       "      <th>std</th>\n",
       "      <td>3.057158</td>\n",
       "      <td>3.262081</td>\n",
       "    </tr>\n",
       "    <tr>\n",
       "      <th>min</th>\n",
       "      <td>0.000000</td>\n",
       "      <td>0.000000</td>\n",
       "    </tr>\n",
       "    <tr>\n",
       "      <th>25%</th>\n",
       "      <td>0.705341</td>\n",
       "      <td>0.000000</td>\n",
       "    </tr>\n",
       "    <tr>\n",
       "      <th>50%</th>\n",
       "      <td>1.685965</td>\n",
       "      <td>0.000000</td>\n",
       "    </tr>\n",
       "    <tr>\n",
       "      <th>75%</th>\n",
       "      <td>3.063293</td>\n",
       "      <td>4.000000</td>\n",
       "    </tr>\n",
       "    <tr>\n",
       "      <th>max</th>\n",
       "      <td>78.540806</td>\n",
       "      <td>30.000000</td>\n",
       "    </tr>\n",
       "  </tbody>\n",
       "</table>\n",
       "</div>"
      ],
      "text/plain": [
       "       price_change        tweet\n",
       "count   2349.000000  2349.000000\n",
       "mean       2.421608     2.056620\n",
       "std        3.057158     3.262081\n",
       "min        0.000000     0.000000\n",
       "25%        0.705341     0.000000\n",
       "50%        1.685965     0.000000\n",
       "75%        3.063293     4.000000\n",
       "max       78.540806    30.000000"
      ]
     },
     "execution_count": 55,
     "metadata": {},
     "output_type": "execute_result"
    }
   ],
   "source": [
    "df2[['price_change', 'tweet']].describe()"
   ]
  },
  {
   "cell_type": "code",
   "execution_count": 56,
   "id": "c543d132",
   "metadata": {},
   "outputs": [
    {
     "data": {
      "text/html": [
       "<div>\n",
       "<style scoped>\n",
       "    .dataframe tbody tr th:only-of-type {\n",
       "        vertical-align: middle;\n",
       "    }\n",
       "\n",
       "    .dataframe tbody tr th {\n",
       "        vertical-align: top;\n",
       "    }\n",
       "\n",
       "    .dataframe thead th {\n",
       "        text-align: right;\n",
       "    }\n",
       "</style>\n",
       "<table border=\"1\" class=\"dataframe\">\n",
       "  <thead>\n",
       "    <tr style=\"text-align: right;\">\n",
       "      <th></th>\n",
       "      <th>price_change</th>\n",
       "      <th>tweet</th>\n",
       "    </tr>\n",
       "  </thead>\n",
       "  <tbody>\n",
       "    <tr>\n",
       "      <th>count</th>\n",
       "      <td>2311.000000</td>\n",
       "      <td>2311.000000</td>\n",
       "    </tr>\n",
       "    <tr>\n",
       "      <th>mean</th>\n",
       "      <td>2.418436</td>\n",
       "      <td>1.815232</td>\n",
       "    </tr>\n",
       "    <tr>\n",
       "      <th>std</th>\n",
       "      <td>3.063558</td>\n",
       "      <td>2.645105</td>\n",
       "    </tr>\n",
       "    <tr>\n",
       "      <th>min</th>\n",
       "      <td>0.000000</td>\n",
       "      <td>0.000000</td>\n",
       "    </tr>\n",
       "    <tr>\n",
       "      <th>25%</th>\n",
       "      <td>0.704992</td>\n",
       "      <td>0.000000</td>\n",
       "    </tr>\n",
       "    <tr>\n",
       "      <th>50%</th>\n",
       "      <td>1.684650</td>\n",
       "      <td>0.000000</td>\n",
       "    </tr>\n",
       "    <tr>\n",
       "      <th>75%</th>\n",
       "      <td>3.062258</td>\n",
       "      <td>2.000000</td>\n",
       "    </tr>\n",
       "    <tr>\n",
       "      <th>max</th>\n",
       "      <td>78.540806</td>\n",
       "      <td>12.000000</td>\n",
       "    </tr>\n",
       "  </tbody>\n",
       "</table>\n",
       "</div>"
      ],
      "text/plain": [
       "       price_change        tweet\n",
       "count   2311.000000  2311.000000\n",
       "mean       2.418436     1.815232\n",
       "std        3.063558     2.645105\n",
       "min        0.000000     0.000000\n",
       "25%        0.704992     0.000000\n",
       "50%        1.684650     0.000000\n",
       "75%        3.062258     2.000000\n",
       "max       78.540806    12.000000"
      ]
     },
     "execution_count": 56,
     "metadata": {},
     "output_type": "execute_result"
    }
   ],
   "source": [
    "df2r[['price_change', 'tweet']].describe()"
   ]
  },
  {
   "cell_type": "markdown",
   "id": "dc2cbb25",
   "metadata": {},
   "source": [
    "#### Correlation coefficient"
   ]
  },
  {
   "cell_type": "code",
   "execution_count": 57,
   "id": "98b294db",
   "metadata": {},
   "outputs": [
    {
     "data": {
      "text/html": [
       "<div>\n",
       "<style scoped>\n",
       "    .dataframe tbody tr th:only-of-type {\n",
       "        vertical-align: middle;\n",
       "    }\n",
       "\n",
       "    .dataframe tbody tr th {\n",
       "        vertical-align: top;\n",
       "    }\n",
       "\n",
       "    .dataframe thead th {\n",
       "        text-align: right;\n",
       "    }\n",
       "</style>\n",
       "<table border=\"1\" class=\"dataframe\">\n",
       "  <thead>\n",
       "    <tr style=\"text-align: right;\">\n",
       "      <th></th>\n",
       "      <th>price_change</th>\n",
       "      <th>tweet</th>\n",
       "    </tr>\n",
       "  </thead>\n",
       "  <tbody>\n",
       "    <tr>\n",
       "      <th>price_change</th>\n",
       "      <td>1.000000</td>\n",
       "      <td>0.092836</td>\n",
       "    </tr>\n",
       "    <tr>\n",
       "      <th>tweet</th>\n",
       "      <td>0.092836</td>\n",
       "      <td>1.000000</td>\n",
       "    </tr>\n",
       "  </tbody>\n",
       "</table>\n",
       "</div>"
      ],
      "text/plain": [
       "              price_change     tweet\n",
       "price_change      1.000000  0.092836\n",
       "tweet             0.092836  1.000000"
      ]
     },
     "execution_count": 57,
     "metadata": {},
     "output_type": "execute_result"
    }
   ],
   "source": [
    "df1[['price_change', 'tweet']].corr()"
   ]
  },
  {
   "cell_type": "code",
   "execution_count": 58,
   "id": "8a6b0c71",
   "metadata": {},
   "outputs": [
    {
     "data": {
      "text/html": [
       "<div>\n",
       "<style scoped>\n",
       "    .dataframe tbody tr th:only-of-type {\n",
       "        vertical-align: middle;\n",
       "    }\n",
       "\n",
       "    .dataframe tbody tr th {\n",
       "        vertical-align: top;\n",
       "    }\n",
       "\n",
       "    .dataframe thead th {\n",
       "        text-align: right;\n",
       "    }\n",
       "</style>\n",
       "<table border=\"1\" class=\"dataframe\">\n",
       "  <thead>\n",
       "    <tr style=\"text-align: right;\">\n",
       "      <th></th>\n",
       "      <th>price_change</th>\n",
       "      <th>tweet</th>\n",
       "    </tr>\n",
       "  </thead>\n",
       "  <tbody>\n",
       "    <tr>\n",
       "      <th>price_change</th>\n",
       "      <td>1.000000</td>\n",
       "      <td>0.107755</td>\n",
       "    </tr>\n",
       "    <tr>\n",
       "      <th>tweet</th>\n",
       "      <td>0.107755</td>\n",
       "      <td>1.000000</td>\n",
       "    </tr>\n",
       "  </tbody>\n",
       "</table>\n",
       "</div>"
      ],
      "text/plain": [
       "              price_change     tweet\n",
       "price_change      1.000000  0.107755\n",
       "tweet             0.107755  1.000000"
      ]
     },
     "execution_count": 58,
     "metadata": {},
     "output_type": "execute_result"
    }
   ],
   "source": [
    "df1r[['price_change', 'tweet']].corr()"
   ]
  },
  {
   "cell_type": "code",
   "execution_count": 59,
   "id": "c3abf71a",
   "metadata": {},
   "outputs": [
    {
     "data": {
      "text/html": [
       "<div>\n",
       "<style scoped>\n",
       "    .dataframe tbody tr th:only-of-type {\n",
       "        vertical-align: middle;\n",
       "    }\n",
       "\n",
       "    .dataframe tbody tr th {\n",
       "        vertical-align: top;\n",
       "    }\n",
       "\n",
       "    .dataframe thead th {\n",
       "        text-align: right;\n",
       "    }\n",
       "</style>\n",
       "<table border=\"1\" class=\"dataframe\">\n",
       "  <thead>\n",
       "    <tr style=\"text-align: right;\">\n",
       "      <th></th>\n",
       "      <th>price_change</th>\n",
       "      <th>tweet</th>\n",
       "    </tr>\n",
       "  </thead>\n",
       "  <tbody>\n",
       "    <tr>\n",
       "      <th>price_change</th>\n",
       "      <td>1.000000</td>\n",
       "      <td>0.051795</td>\n",
       "    </tr>\n",
       "    <tr>\n",
       "      <th>tweet</th>\n",
       "      <td>0.051795</td>\n",
       "      <td>1.000000</td>\n",
       "    </tr>\n",
       "  </tbody>\n",
       "</table>\n",
       "</div>"
      ],
      "text/plain": [
       "              price_change     tweet\n",
       "price_change      1.000000  0.051795\n",
       "tweet             0.051795  1.000000"
      ]
     },
     "execution_count": 59,
     "metadata": {},
     "output_type": "execute_result"
    }
   ],
   "source": [
    "df2[['price_change', 'tweet']].corr()"
   ]
  },
  {
   "cell_type": "code",
   "execution_count": 60,
   "id": "d4f8cee5",
   "metadata": {},
   "outputs": [
    {
     "data": {
      "text/html": [
       "<div>\n",
       "<style scoped>\n",
       "    .dataframe tbody tr th:only-of-type {\n",
       "        vertical-align: middle;\n",
       "    }\n",
       "\n",
       "    .dataframe tbody tr th {\n",
       "        vertical-align: top;\n",
       "    }\n",
       "\n",
       "    .dataframe thead th {\n",
       "        text-align: right;\n",
       "    }\n",
       "</style>\n",
       "<table border=\"1\" class=\"dataframe\">\n",
       "  <thead>\n",
       "    <tr style=\"text-align: right;\">\n",
       "      <th></th>\n",
       "      <th>price_change</th>\n",
       "      <th>tweet</th>\n",
       "    </tr>\n",
       "  </thead>\n",
       "  <tbody>\n",
       "    <tr>\n",
       "      <th>price_change</th>\n",
       "      <td>1.00000</td>\n",
       "      <td>0.05982</td>\n",
       "    </tr>\n",
       "    <tr>\n",
       "      <th>tweet</th>\n",
       "      <td>0.05982</td>\n",
       "      <td>1.00000</td>\n",
       "    </tr>\n",
       "  </tbody>\n",
       "</table>\n",
       "</div>"
      ],
      "text/plain": [
       "              price_change    tweet\n",
       "price_change       1.00000  0.05982\n",
       "tweet              0.05982  1.00000"
      ]
     },
     "execution_count": 60,
     "metadata": {},
     "output_type": "execute_result"
    }
   ],
   "source": [
    "df2r[['price_change', 'tweet']].corr()"
   ]
  },
  {
   "cell_type": "markdown",
   "id": "503e7e19",
   "metadata": {},
   "source": [
    "- Compared with Tweet, Volume has the highest correlation. \n",
    "- Because we will not check the multi-regression model, we disregard multicollinearity between variables here."
   ]
  },
  {
   "cell_type": "markdown",
   "id": "ccc96abc",
   "metadata": {},
   "source": [
    "#### R-squared, slope, intercept, p-value, and etc."
   ]
  },
  {
   "cell_type": "code",
   "execution_count": 61,
   "id": "fb98f598",
   "metadata": {},
   "outputs": [
    {
     "data": {
      "text/plain": [
       "(2349, 7)"
      ]
     },
     "execution_count": 61,
     "metadata": {},
     "output_type": "execute_result"
    }
   ],
   "source": [
    "#fitting the attributes\n",
    "\n",
    "import statsmodels.api as sm\n",
    "df1_rm = df1.copy()\n",
    "df1_rm.dropna(inplace = True)\n",
    "df1_rm['intercept'] = 1\n",
    "df1_rm.shape"
   ]
  },
  {
   "cell_type": "code",
   "execution_count": 62,
   "id": "4de91da1",
   "metadata": {},
   "outputs": [
    {
     "data": {
      "text/plain": [
       "(2324, 7)"
      ]
     },
     "execution_count": 62,
     "metadata": {},
     "output_type": "execute_result"
    }
   ],
   "source": [
    "df1r_rm = df1r.copy()\n",
    "df1r_rm.dropna(inplace = True)\n",
    "df1r_rm['intercept'] = 1\n",
    "df1r_rm.shape"
   ]
  },
  {
   "cell_type": "code",
   "execution_count": 63,
   "id": "27ef641e",
   "metadata": {},
   "outputs": [
    {
     "data": {
      "text/plain": [
       "(2349, 7)"
      ]
     },
     "execution_count": 63,
     "metadata": {},
     "output_type": "execute_result"
    }
   ],
   "source": [
    "df2_rm = df2.copy()\n",
    "df2_rm.dropna(inplace = True)\n",
    "df2_rm['intercept'] = 1\n",
    "df2_rm.shape"
   ]
  },
  {
   "cell_type": "code",
   "execution_count": 64,
   "id": "19188c56",
   "metadata": {},
   "outputs": [
    {
     "data": {
      "text/plain": [
       "(2311, 7)"
      ]
     },
     "execution_count": 64,
     "metadata": {},
     "output_type": "execute_result"
    }
   ],
   "source": [
    "df2r_rm = df2r.copy()\n",
    "df2r_rm.dropna(inplace = True)\n",
    "df2r_rm['intercept'] = 1\n",
    "df2r_rm.shape"
   ]
  },
  {
   "cell_type": "markdown",
   "id": "55dd9a84",
   "metadata": {},
   "source": [
    " **Ordinary Least Squares**"
   ]
  },
  {
   "cell_type": "code",
   "execution_count": 65,
   "id": "2075addc",
   "metadata": {
    "scrolled": true
   },
   "outputs": [
    {
     "data": {
      "text/html": [
       "<table class=\"simpletable\">\n",
       "<caption>OLS Regression Results</caption>\n",
       "<tr>\n",
       "  <th>Dep. Variable:</th>      <td>price_change</td>   <th>  R-squared:         </th> <td>   0.009</td> \n",
       "</tr>\n",
       "<tr>\n",
       "  <th>Model:</th>                   <td>OLS</td>       <th>  Adj. R-squared:    </th> <td>   0.008</td> \n",
       "</tr>\n",
       "<tr>\n",
       "  <th>Method:</th>             <td>Least Squares</td>  <th>  F-statistic:       </th> <td>   20.40</td> \n",
       "</tr>\n",
       "<tr>\n",
       "  <th>Date:</th>             <td>Sat, 11 Dec 2021</td> <th>  Prob (F-statistic):</th> <td>6.58e-06</td> \n",
       "</tr>\n",
       "<tr>\n",
       "  <th>Time:</th>                 <td>23:25:02</td>     <th>  Log-Likelihood:    </th> <td> -5947.4</td> \n",
       "</tr>\n",
       "<tr>\n",
       "  <th>No. Observations:</th>      <td>  2349</td>      <th>  AIC:               </th> <td>1.190e+04</td>\n",
       "</tr>\n",
       "<tr>\n",
       "  <th>Df Residuals:</th>          <td>  2347</td>      <th>  BIC:               </th> <td>1.191e+04</td>\n",
       "</tr>\n",
       "<tr>\n",
       "  <th>Df Model:</th>              <td>     1</td>      <th>                     </th>     <td> </td>    \n",
       "</tr>\n",
       "<tr>\n",
       "  <th>Covariance Type:</th>      <td>nonrobust</td>    <th>                     </th>     <td> </td>    \n",
       "</tr>\n",
       "</table>\n",
       "<table class=\"simpletable\">\n",
       "<tr>\n",
       "      <td></td>         <th>coef</th>     <th>std err</th>      <th>t</th>      <th>P>|t|</th>  <th>[0.025</th>    <th>0.975]</th>  \n",
       "</tr>\n",
       "<tr>\n",
       "  <th>intercept</th> <td>    2.2481</td> <td>    0.074</td> <td>   30.534</td> <td> 0.000</td> <td>    2.104</td> <td>    2.393</td>\n",
       "</tr>\n",
       "<tr>\n",
       "  <th>tweet</th>     <td>    0.0246</td> <td>    0.005</td> <td>    4.517</td> <td> 0.000</td> <td>    0.014</td> <td>    0.035</td>\n",
       "</tr>\n",
       "</table>\n",
       "<table class=\"simpletable\">\n",
       "<tr>\n",
       "  <th>Omnibus:</th>       <td>3460.171</td> <th>  Durbin-Watson:     </th>  <td>   1.754</td>  \n",
       "</tr>\n",
       "<tr>\n",
       "  <th>Prob(Omnibus):</th>  <td> 0.000</td>  <th>  Jarque-Bera (JB):  </th> <td>2886083.075</td>\n",
       "</tr>\n",
       "<tr>\n",
       "  <th>Skew:</th>           <td> 8.388</td>  <th>  Prob(JB):          </th>  <td>    0.00</td>  \n",
       "</tr>\n",
       "<tr>\n",
       "  <th>Kurtosis:</th>       <td>173.898</td> <th>  Cond. No.          </th>  <td>    15.8</td>  \n",
       "</tr>\n",
       "</table><br/><br/>Notes:<br/>[1] Standard Errors assume that the covariance matrix of the errors is correctly specified."
      ],
      "text/plain": [
       "<class 'statsmodels.iolib.summary.Summary'>\n",
       "\"\"\"\n",
       "                            OLS Regression Results                            \n",
       "==============================================================================\n",
       "Dep. Variable:           price_change   R-squared:                       0.009\n",
       "Model:                            OLS   Adj. R-squared:                  0.008\n",
       "Method:                 Least Squares   F-statistic:                     20.40\n",
       "Date:                Sat, 11 Dec 2021   Prob (F-statistic):           6.58e-06\n",
       "Time:                        23:25:02   Log-Likelihood:                -5947.4\n",
       "No. Observations:                2349   AIC:                         1.190e+04\n",
       "Df Residuals:                    2347   BIC:                         1.191e+04\n",
       "Df Model:                           1                                         \n",
       "Covariance Type:            nonrobust                                         \n",
       "==============================================================================\n",
       "                 coef    std err          t      P>|t|      [0.025      0.975]\n",
       "------------------------------------------------------------------------------\n",
       "intercept      2.2481      0.074     30.534      0.000       2.104       2.393\n",
       "tweet          0.0246      0.005      4.517      0.000       0.014       0.035\n",
       "==============================================================================\n",
       "Omnibus:                     3460.171   Durbin-Watson:                   1.754\n",
       "Prob(Omnibus):                  0.000   Jarque-Bera (JB):          2886083.075\n",
       "Skew:                           8.388   Prob(JB):                         0.00\n",
       "Kurtosis:                     173.898   Cond. No.                         15.8\n",
       "==============================================================================\n",
       "\n",
       "Notes:\n",
       "[1] Standard Errors assume that the covariance matrix of the errors is correctly specified.\n",
       "\"\"\""
      ]
     },
     "execution_count": 65,
     "metadata": {},
     "output_type": "execute_result"
    }
   ],
   "source": [
    "lm = sm.OLS(df1_rm['price_change'], df1_rm[['intercept', 'tweet']])\n",
    "result = lm.fit()\n",
    "result.summary()"
   ]
  },
  {
   "cell_type": "code",
   "execution_count": 66,
   "id": "3f94dd94",
   "metadata": {},
   "outputs": [
    {
     "data": {
      "text/html": [
       "<table class=\"simpletable\">\n",
       "<caption>OLS Regression Results</caption>\n",
       "<tr>\n",
       "  <th>Dep. Variable:</th>      <td>price_change</td>   <th>  R-squared:         </th> <td>   0.012</td> \n",
       "</tr>\n",
       "<tr>\n",
       "  <th>Model:</th>                   <td>OLS</td>       <th>  Adj. R-squared:    </th> <td>   0.011</td> \n",
       "</tr>\n",
       "<tr>\n",
       "  <th>Method:</th>             <td>Least Squares</td>  <th>  F-statistic:       </th> <td>   27.28</td> \n",
       "</tr>\n",
       "<tr>\n",
       "  <th>Date:</th>             <td>Sat, 11 Dec 2021</td> <th>  Prob (F-statistic):</th> <td>1.92e-07</td> \n",
       "</tr>\n",
       "<tr>\n",
       "  <th>Time:</th>                 <td>23:25:02</td>     <th>  Log-Likelihood:    </th> <td> -5883.7</td> \n",
       "</tr>\n",
       "<tr>\n",
       "  <th>No. Observations:</th>      <td>  2324</td>      <th>  AIC:               </th> <td>1.177e+04</td>\n",
       "</tr>\n",
       "<tr>\n",
       "  <th>Df Residuals:</th>          <td>  2322</td>      <th>  BIC:               </th> <td>1.178e+04</td>\n",
       "</tr>\n",
       "<tr>\n",
       "  <th>Df Model:</th>              <td>     1</td>      <th>                     </th>     <td> </td>    \n",
       "</tr>\n",
       "<tr>\n",
       "  <th>Covariance Type:</th>      <td>nonrobust</td>    <th>                     </th>     <td> </td>    \n",
       "</tr>\n",
       "</table>\n",
       "<table class=\"simpletable\">\n",
       "<tr>\n",
       "      <td></td>         <th>coef</th>     <th>std err</th>      <th>t</th>      <th>P>|t|</th>  <th>[0.025</th>    <th>0.975]</th>  \n",
       "</tr>\n",
       "<tr>\n",
       "  <th>intercept</th> <td>    2.2002</td> <td>    0.076</td> <td>   29.018</td> <td> 0.000</td> <td>    2.051</td> <td>    2.349</td>\n",
       "</tr>\n",
       "<tr>\n",
       "  <th>tweet</th>     <td>    0.0343</td> <td>    0.007</td> <td>    5.223</td> <td> 0.000</td> <td>    0.021</td> <td>    0.047</td>\n",
       "</tr>\n",
       "</table>\n",
       "<table class=\"simpletable\">\n",
       "<tr>\n",
       "  <th>Omnibus:</th>       <td>3434.494</td> <th>  Durbin-Watson:     </th>  <td>   1.775</td>  \n",
       "</tr>\n",
       "<tr>\n",
       "  <th>Prob(Omnibus):</th>  <td> 0.000</td>  <th>  Jarque-Bera (JB):  </th> <td>2902615.669</td>\n",
       "</tr>\n",
       "<tr>\n",
       "  <th>Skew:</th>           <td> 8.436</td>  <th>  Prob(JB):          </th>  <td>    0.00</td>  \n",
       "</tr>\n",
       "<tr>\n",
       "  <th>Kurtosis:</th>       <td>175.310</td> <th>  Cond. No.          </th>  <td>    13.9</td>  \n",
       "</tr>\n",
       "</table><br/><br/>Notes:<br/>[1] Standard Errors assume that the covariance matrix of the errors is correctly specified."
      ],
      "text/plain": [
       "<class 'statsmodels.iolib.summary.Summary'>\n",
       "\"\"\"\n",
       "                            OLS Regression Results                            \n",
       "==============================================================================\n",
       "Dep. Variable:           price_change   R-squared:                       0.012\n",
       "Model:                            OLS   Adj. R-squared:                  0.011\n",
       "Method:                 Least Squares   F-statistic:                     27.28\n",
       "Date:                Sat, 11 Dec 2021   Prob (F-statistic):           1.92e-07\n",
       "Time:                        23:25:02   Log-Likelihood:                -5883.7\n",
       "No. Observations:                2324   AIC:                         1.177e+04\n",
       "Df Residuals:                    2322   BIC:                         1.178e+04\n",
       "Df Model:                           1                                         \n",
       "Covariance Type:            nonrobust                                         \n",
       "==============================================================================\n",
       "                 coef    std err          t      P>|t|      [0.025      0.975]\n",
       "------------------------------------------------------------------------------\n",
       "intercept      2.2002      0.076     29.018      0.000       2.051       2.349\n",
       "tweet          0.0343      0.007      5.223      0.000       0.021       0.047\n",
       "==============================================================================\n",
       "Omnibus:                     3434.494   Durbin-Watson:                   1.775\n",
       "Prob(Omnibus):                  0.000   Jarque-Bera (JB):          2902615.669\n",
       "Skew:                           8.436   Prob(JB):                         0.00\n",
       "Kurtosis:                     175.310   Cond. No.                         13.9\n",
       "==============================================================================\n",
       "\n",
       "Notes:\n",
       "[1] Standard Errors assume that the covariance matrix of the errors is correctly specified.\n",
       "\"\"\""
      ]
     },
     "execution_count": 66,
     "metadata": {},
     "output_type": "execute_result"
    }
   ],
   "source": [
    "lm = sm.OLS(df1r_rm['price_change'], df1r_rm[['intercept', 'tweet']])\n",
    "result = lm.fit()\n",
    "result.summary()"
   ]
  },
  {
   "cell_type": "code",
   "execution_count": 67,
   "id": "05de8d64",
   "metadata": {},
   "outputs": [
    {
     "data": {
      "text/html": [
       "<table class=\"simpletable\">\n",
       "<caption>OLS Regression Results</caption>\n",
       "<tr>\n",
       "  <th>Dep. Variable:</th>      <td>price_change</td>   <th>  R-squared:         </th> <td>   0.003</td> \n",
       "</tr>\n",
       "<tr>\n",
       "  <th>Model:</th>                   <td>OLS</td>       <th>  Adj. R-squared:    </th> <td>   0.002</td> \n",
       "</tr>\n",
       "<tr>\n",
       "  <th>Method:</th>             <td>Least Squares</td>  <th>  F-statistic:       </th> <td>   6.313</td> \n",
       "</tr>\n",
       "<tr>\n",
       "  <th>Date:</th>             <td>Sat, 11 Dec 2021</td> <th>  Prob (F-statistic):</th>  <td>0.0121</td>  \n",
       "</tr>\n",
       "<tr>\n",
       "  <th>Time:</th>                 <td>23:25:02</td>     <th>  Log-Likelihood:    </th> <td> -5954.4</td> \n",
       "</tr>\n",
       "<tr>\n",
       "  <th>No. Observations:</th>      <td>  2349</td>      <th>  AIC:               </th> <td>1.191e+04</td>\n",
       "</tr>\n",
       "<tr>\n",
       "  <th>Df Residuals:</th>          <td>  2347</td>      <th>  BIC:               </th> <td>1.192e+04</td>\n",
       "</tr>\n",
       "<tr>\n",
       "  <th>Df Model:</th>              <td>     1</td>      <th>                     </th>     <td> </td>    \n",
       "</tr>\n",
       "<tr>\n",
       "  <th>Covariance Type:</th>      <td>nonrobust</td>    <th>                     </th>     <td> </td>    \n",
       "</tr>\n",
       "</table>\n",
       "<table class=\"simpletable\">\n",
       "<tr>\n",
       "      <td></td>         <th>coef</th>     <th>std err</th>      <th>t</th>      <th>P>|t|</th>  <th>[0.025</th>    <th>0.975]</th>  \n",
       "</tr>\n",
       "<tr>\n",
       "  <th>intercept</th> <td>    2.3218</td> <td>    0.074</td> <td>   31.170</td> <td> 0.000</td> <td>    2.176</td> <td>    2.468</td>\n",
       "</tr>\n",
       "<tr>\n",
       "  <th>tweet</th>     <td>    0.0485</td> <td>    0.019</td> <td>    2.513</td> <td> 0.012</td> <td>    0.011</td> <td>    0.086</td>\n",
       "</tr>\n",
       "</table>\n",
       "<table class=\"simpletable\">\n",
       "<tr>\n",
       "  <th>Omnibus:</th>       <td>3460.751</td> <th>  Durbin-Watson:     </th>  <td>   1.741</td>  \n",
       "</tr>\n",
       "<tr>\n",
       "  <th>Prob(Omnibus):</th>  <td> 0.000</td>  <th>  Jarque-Bera (JB):  </th> <td>2872399.470</td>\n",
       "</tr>\n",
       "<tr>\n",
       "  <th>Skew:</th>           <td> 8.393</td>  <th>  Prob(JB):          </th>  <td>    0.00</td>  \n",
       "</tr>\n",
       "<tr>\n",
       "  <th>Kurtosis:</th>       <td>173.487</td> <th>  Cond. No.          </th>  <td>    4.65</td>  \n",
       "</tr>\n",
       "</table><br/><br/>Notes:<br/>[1] Standard Errors assume that the covariance matrix of the errors is correctly specified."
      ],
      "text/plain": [
       "<class 'statsmodels.iolib.summary.Summary'>\n",
       "\"\"\"\n",
       "                            OLS Regression Results                            \n",
       "==============================================================================\n",
       "Dep. Variable:           price_change   R-squared:                       0.003\n",
       "Model:                            OLS   Adj. R-squared:                  0.002\n",
       "Method:                 Least Squares   F-statistic:                     6.313\n",
       "Date:                Sat, 11 Dec 2021   Prob (F-statistic):             0.0121\n",
       "Time:                        23:25:02   Log-Likelihood:                -5954.4\n",
       "No. Observations:                2349   AIC:                         1.191e+04\n",
       "Df Residuals:                    2347   BIC:                         1.192e+04\n",
       "Df Model:                           1                                         \n",
       "Covariance Type:            nonrobust                                         \n",
       "==============================================================================\n",
       "                 coef    std err          t      P>|t|      [0.025      0.975]\n",
       "------------------------------------------------------------------------------\n",
       "intercept      2.3218      0.074     31.170      0.000       2.176       2.468\n",
       "tweet          0.0485      0.019      2.513      0.012       0.011       0.086\n",
       "==============================================================================\n",
       "Omnibus:                     3460.751   Durbin-Watson:                   1.741\n",
       "Prob(Omnibus):                  0.000   Jarque-Bera (JB):          2872399.470\n",
       "Skew:                           8.393   Prob(JB):                         0.00\n",
       "Kurtosis:                     173.487   Cond. No.                         4.65\n",
       "==============================================================================\n",
       "\n",
       "Notes:\n",
       "[1] Standard Errors assume that the covariance matrix of the errors is correctly specified.\n",
       "\"\"\""
      ]
     },
     "execution_count": 67,
     "metadata": {},
     "output_type": "execute_result"
    }
   ],
   "source": [
    "lm = sm.OLS(df2_rm['price_change'], df2_rm[['intercept', 'tweet']])\n",
    "result = lm.fit()\n",
    "result.summary()"
   ]
  },
  {
   "cell_type": "code",
   "execution_count": 68,
   "id": "a5a5ab19",
   "metadata": {},
   "outputs": [
    {
     "data": {
      "text/html": [
       "<table class=\"simpletable\">\n",
       "<caption>OLS Regression Results</caption>\n",
       "<tr>\n",
       "  <th>Dep. Variable:</th>      <td>price_change</td>   <th>  R-squared:         </th> <td>   0.004</td> \n",
       "</tr>\n",
       "<tr>\n",
       "  <th>Model:</th>                   <td>OLS</td>       <th>  Adj. R-squared:    </th> <td>   0.003</td> \n",
       "</tr>\n",
       "<tr>\n",
       "  <th>Method:</th>             <td>Least Squares</td>  <th>  F-statistic:       </th> <td>   8.292</td> \n",
       "</tr>\n",
       "<tr>\n",
       "  <th>Date:</th>             <td>Sat, 11 Dec 2021</td> <th>  Prob (F-statistic):</th>  <td>0.00402</td> \n",
       "</tr>\n",
       "<tr>\n",
       "  <th>Time:</th>                 <td>23:25:02</td>     <th>  Log-Likelihood:    </th> <td> -5861.9</td> \n",
       "</tr>\n",
       "<tr>\n",
       "  <th>No. Observations:</th>      <td>  2311</td>      <th>  AIC:               </th> <td>1.173e+04</td>\n",
       "</tr>\n",
       "<tr>\n",
       "  <th>Df Residuals:</th>          <td>  2309</td>      <th>  BIC:               </th> <td>1.174e+04</td>\n",
       "</tr>\n",
       "<tr>\n",
       "  <th>Df Model:</th>              <td>     1</td>      <th>                     </th>     <td> </td>    \n",
       "</tr>\n",
       "<tr>\n",
       "  <th>Covariance Type:</th>      <td>nonrobust</td>    <th>                     </th>     <td> </td>    \n",
       "</tr>\n",
       "</table>\n",
       "<table class=\"simpletable\">\n",
       "<tr>\n",
       "      <td></td>         <th>coef</th>     <th>std err</th>      <th>t</th>      <th>P>|t|</th>  <th>[0.025</th>    <th>0.975]</th>  \n",
       "</tr>\n",
       "<tr>\n",
       "  <th>intercept</th> <td>    2.2927</td> <td>    0.077</td> <td>   29.708</td> <td> 0.000</td> <td>    2.141</td> <td>    2.444</td>\n",
       "</tr>\n",
       "<tr>\n",
       "  <th>tweet</th>     <td>    0.0693</td> <td>    0.024</td> <td>    2.880</td> <td> 0.004</td> <td>    0.022</td> <td>    0.116</td>\n",
       "</tr>\n",
       "</table>\n",
       "<table class=\"simpletable\">\n",
       "<tr>\n",
       "  <th>Omnibus:</th>       <td>3422.348</td> <th>  Durbin-Watson:     </th>  <td>   1.729</td>  \n",
       "</tr>\n",
       "<tr>\n",
       "  <th>Prob(Omnibus):</th>  <td> 0.000</td>  <th>  Jarque-Bera (JB):  </th> <td>2887882.323</td>\n",
       "</tr>\n",
       "<tr>\n",
       "  <th>Skew:</th>           <td> 8.472</td>  <th>  Prob(JB):          </th>  <td>    0.00</td>  \n",
       "</tr>\n",
       "<tr>\n",
       "  <th>Kurtosis:</th>       <td>175.348</td> <th>  Cond. No.          </th>  <td>    4.02</td>  \n",
       "</tr>\n",
       "</table><br/><br/>Notes:<br/>[1] Standard Errors assume that the covariance matrix of the errors is correctly specified."
      ],
      "text/plain": [
       "<class 'statsmodels.iolib.summary.Summary'>\n",
       "\"\"\"\n",
       "                            OLS Regression Results                            \n",
       "==============================================================================\n",
       "Dep. Variable:           price_change   R-squared:                       0.004\n",
       "Model:                            OLS   Adj. R-squared:                  0.003\n",
       "Method:                 Least Squares   F-statistic:                     8.292\n",
       "Date:                Sat, 11 Dec 2021   Prob (F-statistic):            0.00402\n",
       "Time:                        23:25:02   Log-Likelihood:                -5861.9\n",
       "No. Observations:                2311   AIC:                         1.173e+04\n",
       "Df Residuals:                    2309   BIC:                         1.174e+04\n",
       "Df Model:                           1                                         \n",
       "Covariance Type:            nonrobust                                         \n",
       "==============================================================================\n",
       "                 coef    std err          t      P>|t|      [0.025      0.975]\n",
       "------------------------------------------------------------------------------\n",
       "intercept      2.2927      0.077     29.708      0.000       2.141       2.444\n",
       "tweet          0.0693      0.024      2.880      0.004       0.022       0.116\n",
       "==============================================================================\n",
       "Omnibus:                     3422.348   Durbin-Watson:                   1.729\n",
       "Prob(Omnibus):                  0.000   Jarque-Bera (JB):          2887882.323\n",
       "Skew:                           8.472   Prob(JB):                         0.00\n",
       "Kurtosis:                     175.348   Cond. No.                         4.02\n",
       "==============================================================================\n",
       "\n",
       "Notes:\n",
       "[1] Standard Errors assume that the covariance matrix of the errors is correctly specified.\n",
       "\"\"\""
      ]
     },
     "execution_count": 68,
     "metadata": {},
     "output_type": "execute_result"
    }
   ],
   "source": [
    "lm = sm.OLS(df2r_rm['price_change'], df2r_rm[['intercept', 'tweet']])\n",
    "result = lm.fit()\n",
    "result.summary()"
   ]
  },
  {
   "cell_type": "markdown",
   "id": "604ddd3c",
   "metadata": {},
   "source": [
    "- `Stock price change(%) = β0 + β1*tweet`\n",
    "\n",
    "\n",
    "- df1r has the highest R-squared value. \n",
    "- df1r has the smallest P-value in a slope. df1, df2, df2r have P-value that exceeds the alpha value, typically 0.1 or less, which that means df1r has more reliable slope(tweet) than the others.\n",
    "\n",
    "\n",
    "- We assume our critical value(α) in this analysis at 0.01 or 1%. \n",
    "- H0:β0 = 0 vs H1: β0 ≠ 0 and H0:β1 = 0 vs H1: β1 ≠ 0 \n",
    "- The p-value of the slope in df1r has less than our critical value(0.01 or 1%), which suggest that the number of tweet in df1r is statistically significant in relating to the stock price change. \n",
    "\n",
    "\n",
    "- Based on **df1r**, `StockPricePhange(%) = 2.3318 + 0.0268tweet`\t\n",
    "- The predicted stock price change(%) is equal to 2.3318 plus 0.0268 times the number of tweets.\n",
    "- If there is no tweeting, we would predict that the stock price has about 2.3318% change on average.\n",
    "- Every one unit increase in the number of tweet, we would predict that the stock price would change by 0.0268%. \n",
    "\n",
    "\n",
    "- However, because the R-squared is really small, 0.007, 0.7% of the variability in the stock price change is explained by the number of tweets, in other words the remaining 99.3% of the variability, is due to characteristics of the stock price change that are not the number of tweets. \n",
    "\n",
    "> Many feel that R-squared isn't a great measure (which is possibly true), but I would argue that using cross-validation can assist us with validating any measure that helps us understand the fit of a model to our data. Here, you can find one such argument explaining why one individual doesn't care for R-squared. https://data.library.virginia.edu/is-r-squared-useless/"
   ]
  },
  {
   "cell_type": "markdown",
   "id": "1cc22376",
   "metadata": {},
   "source": [
    "### Data visualization"
   ]
  },
  {
   "cell_type": "markdown",
   "id": "e4cbd30d",
   "metadata": {},
   "source": [
    "#### Tweet count"
   ]
  },
  {
   "cell_type": "code",
   "execution_count": 69,
   "id": "7c5300ee",
   "metadata": {},
   "outputs": [
    {
     "data": {
      "image/png": "[encoded data removed]",
      "text/plain": [
       "<Figure size 1152x648 with 1 Axes>"
      ]
     },
     "metadata": {
      "needs_background": "light"
     },
     "output_type": "display_data"
    }
   ],
   "source": [
    "plt.figure(figsize = [16,9])\n",
    "\n",
    "plt.errorbar(x = df1['date'], y = df1['tweet'], label = 'Tweets incl.Retweet')\n",
    "plt.errorbar(x = df2['date'], y = df2['tweet'], label = 'Tweets excl.Retweet')\n",
    "\n",
    "plt.legend(bbox_to_anchor=(1.02,1), loc = 'upper left', borderaxespad = 0)\n",
    "\n",
    "plt.title('Tweet count per day')\n",
    "plt.xlabel('Year')\n",
    "plt.ylabel('Tweet count (n)')\n",
    "\n",
    "plt.show()"
   ]
  },
  {
   "cell_type": "markdown",
   "id": "c0610858",
   "metadata": {},
   "source": [
    "- As the company grows, the number of tweets has proportionally increased over the period."
   ]
  },
  {
   "cell_type": "markdown",
   "id": "46ba0017",
   "metadata": {},
   "source": [
    "#### Regression with scatter plot"
   ]
  },
  {
   "cell_type": "code",
   "execution_count": 70,
   "id": "4f96121c",
   "metadata": {},
   "outputs": [
    {
     "data": {
      "image/png": "[encoded data removed]",
      "text/plain": [
       "<Figure size 1152x648 with 1 Axes>"
      ]
     },
     "metadata": {
      "needs_background": "light"
     },
     "output_type": "display_data"
    }
   ],
   "source": [
    "plt.figure(figsize = (16,9));\n",
    "\n",
    "sb.regplot(data = df1r, x = 'tweet', y = 'price_change', x_jitter = 2, y_jitter = 2, scatter_kws = {'alpha': 1/2}, ci = 95);\n",
    "plt.ylim(0,np.percentile(df1r.price_change, 97));\n",
    "plt.title('Tweet count vs Price change (R² = 0.012)')\n",
    "plt.xlabel('Tweet count (n)')\n",
    "plt.ylabel('Price change (%)')\n",
    "plt.grid(axis='x')\n",
    "plt.grid(axis='y')\n",
    "plt.legend(['StockPricePhange(%) = 2.2002 + 0.0343tweet', 'β1: P-value = 1.2e-38 (α: 0.01)', 'Confidence interval = 95%'])\n",
    "\n",
    "plt.show()"
   ]
  },
  {
   "cell_type": "markdown",
   "id": "b643dc87",
   "metadata": {},
   "source": [
    "## Conclusion\n",
    "\n",
    "`Does ELON's number of tweets affect Tesla's stock price?`"
   ]
  },
  {
   "cell_type": "markdown",
   "id": "2c6e285d",
   "metadata": {},
   "source": [
    "We conducted simple linear regression and statistical analysis for the research question, 'How much does Elon Musk's number of tweets per day affect Tesla's stock price change?'. The predicted stock price change (%) equals 2.2002 plus 0.0343 times the number of tweets, where the tweet count includes retweets and is within the 99% range. If there is no tweeting, we would expect the stock price to have about 2.2002% change on average. For every one-unit increase in the number of tweets, we would predict that the stock price would change by 0.0343%. However, because the R-squared is remarkably small, 0.012, only 1.2% of the variability in the stock price change is explained by the number of tweets; in other words, the remaining 98.8% of the variability is due to characteristics of the stock price change that are not the number of tweets.\n",
    "\n",
    "Future work:\n",
    "In my future work, I will go over R-squared more in detail because there are some arguments explain that R-squared may not be a great measure."
   ]
  }
 ],
 "metadata": {
  "hide_input": false,
  "kernelspec": {
   "display_name": "Python 3 (ipykernel)",
   "language": "python",
   "name": "python3"
  },
  "language_info": {
   "codemirror_mode": {
    "name": "ipython",
    "version": 3
   },
   "file_extension": ".py",
   "mimetype": "text/x-python",
   "name": "python",
   "nbconvert_exporter": "python",
   "pygments_lexer": "ipython3",
   "version": "3.8.12"
  },
  "toc": {
   "base_numbering": 1,
   "nav_menu": {},
   "number_sections": true,
   "sideBar": true,
   "skip_h1_title": false,
   "title_cell": "Table of Contents",
   "title_sidebar": "Contents",
   "toc_cell": false,
   "toc_position": {
    "height": "calc(100% - 180px)",
    "left": "10px",
    "top": "150px",
    "width": "279.538px"
   },
   "toc_section_display": true,
   "toc_window_display": true
  },
  "varInspector": {
   "cols": {
    "lenName": 16,
    "lenType": 16,
    "lenVar": 40
   },
   "kernels_config": {
    "python": {
     "delete_cmd_postfix": "",
     "delete_cmd_prefix": "del ",
     "library": "var_list.py",
     "varRefreshCmd": "print(var_dic_list())"
    },
    "r": {
     "delete_cmd_postfix": ") ",
     "delete_cmd_prefix": "rm(",
     "library": "var_list.r",
     "varRefreshCmd": "cat(var_dic_list()) "
    }
   },
   "types_to_exclude": [
    "module",
    "function",
    "builtin_function_or_method",
    "instance",
    "_Feature"
   ],
   "window_display": false
  }
 },
 "nbformat": 4,
 "nbformat_minor": 5
}
